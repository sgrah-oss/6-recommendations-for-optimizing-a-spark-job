{
 "cells": [
  {
   "cell_type": "code",
   "execution_count": 1,
   "metadata": {
    "collapsed": true
   },
   "outputs": [
    {
     "data": {
      "text/plain": "'3.1.1'"
     },
     "execution_count": 1,
     "metadata": {},
     "output_type": "execute_result"
    }
   ],
   "source": [
    "from typing import List\n",
    "import pyspark\n",
    "pyspark.__version__"
   ]
  },
  {
   "cell_type": "code",
   "execution_count": 2,
   "outputs": [],
   "source": [
    "spark = pyspark.sql.SparkSession.builder \\\n",
    "                    .master(\"local[6]\") \\\n",
    "                    .appName(\"Calcul des variations historiques de température par commune\") \\\n",
    "                    .config(\"spark.driver.memory\", \"5g\") \\\n",
    "                    .config(\"spark.executor.memory\", \"5g\") \\\n",
    "                    .getOrCreate()"
   ],
   "metadata": {
    "collapsed": false,
    "pycharm": {
     "name": "#%%\n"
    }
   }
  },
  {
   "cell_type": "code",
   "execution_count": 3,
   "outputs": [
    {
     "data": {
      "text/plain": "<pyspark.sql.session.SparkSession at 0x7facb84e9ee0>",
      "text/html": "\n            <div>\n                <p><b>SparkSession - in-memory</b></p>\n                \n        <div>\n            <p><b>SparkContext</b></p>\n\n            <p><a href=\"http://amac02dq35hmd6r:4040\">Spark UI</a></p>\n\n            <dl>\n              <dt>Version</dt>\n                <dd><code>v3.1.1</code></dd>\n              <dt>Master</dt>\n                <dd><code>local[6]</code></dd>\n              <dt>AppName</dt>\n                <dd><code>Calcul des variations historiques de température par commune</code></dd>\n            </dl>\n        </div>\n        \n            </div>\n        "
     },
     "execution_count": 3,
     "metadata": {},
     "output_type": "execute_result"
    }
   ],
   "source": [
    "spark\n"
   ],
   "metadata": {
    "collapsed": false,
    "pycharm": {
     "name": "#%%\n"
    }
   }
  },
  {
   "cell_type": "code",
   "execution_count": 4,
   "outputs": [
    {
     "data": {
      "text/plain": "pyspark.sql.session.SparkSession"
     },
     "execution_count": 4,
     "metadata": {},
     "output_type": "execute_result"
    }
   ],
   "source": [
    "type(spark)"
   ],
   "metadata": {
    "collapsed": false,
    "pycharm": {
     "name": "#%%\n"
    }
   }
  },
  {
   "cell_type": "code",
   "execution_count": 5,
   "outputs": [],
   "source": [
    "from pyspark.sql.functions import col"
   ],
   "metadata": {
    "collapsed": false,
    "pycharm": {
     "name": "#%%\n"
    }
   }
  },
  {
   "cell_type": "code",
   "execution_count": 6,
   "outputs": [
    {
     "data": {
      "text/plain": "DataFrame[id: bigint, square: double]"
     },
     "execution_count": 6,
     "metadata": {},
     "output_type": "execute_result"
    }
   ],
   "source": [
    "dataframe = spark.range(1 * 10000000).toDF(\"id\").withColumn(\"square\", col(\"id\") ** 2)\n",
    "dataframe.persist()"
   ],
   "metadata": {
    "collapsed": false,
    "pycharm": {
     "name": "#%%\n"
    }
   }
  },
  {
   "cell_type": "code",
   "execution_count": 7,
   "outputs": [
    {
     "name": "stdout",
     "output_type": "stream",
     "text": [
      "CPU times: user 773 µs, sys: 1.12 ms, total: 1.89 ms\n",
      "Wall time: 2.5 s\n"
     ]
    },
    {
     "data": {
      "text/plain": "10000000"
     },
     "execution_count": 7,
     "metadata": {},
     "output_type": "execute_result"
    }
   ],
   "source": [
    "%time dataframe.count()"
   ],
   "metadata": {
    "collapsed": false,
    "pycharm": {
     "name": "#%%\n"
    }
   }
  },
  {
   "cell_type": "code",
   "execution_count": 8,
   "outputs": [
    {
     "name": "stdout",
     "output_type": "stream",
     "text": [
      "CPU times: user 1.02 ms, sys: 1.59 ms, total: 2.61 ms\n",
      "Wall time: 147 ms\n"
     ]
    },
    {
     "data": {
      "text/plain": "10000000"
     },
     "execution_count": 8,
     "metadata": {},
     "output_type": "execute_result"
    }
   ],
   "source": [
    "%time dataframe.count()\n"
   ],
   "metadata": {
    "collapsed": false,
    "pycharm": {
     "name": "#%%\n"
    }
   }
  },
  {
   "cell_type": "code",
   "execution_count": null,
   "outputs": [],
   "source": [
    "dataframe.persist(storageLevel=\"MEMORY_ONLY\")\n"
   ],
   "metadata": {
    "collapsed": false,
    "pycharm": {
     "name": "#%%\n"
    }
   }
  },
  {
   "cell_type": "code",
   "execution_count": 112,
   "outputs": [
    {
     "name": "stdout",
     "output_type": "stream",
     "text": [
      "http://amac02dq35hmd6r:4040\n",
      "Calcul des variations historiques de température par commune\n",
      "local[6]\n",
      "3.0.2\n"
     ]
    }
   ],
   "source": [
    "print(spark.sparkContext.uiWebUrl)\n",
    "print(spark.sparkContext.appName)\n",
    "print(spark.sparkContext.master)\n",
    "print(spark.sparkContext.version)"
   ],
   "metadata": {
    "collapsed": false,
    "pycharm": {
     "name": "#%%\n"
    }
   }
  },
  {
   "cell_type": "markdown",
   "source": [
    "## Meteo Dataset"
   ],
   "metadata": {
    "collapsed": false
   }
  },
  {
   "cell_type": "code",
   "execution_count": 77,
   "outputs": [
    {
     "name": "stdout",
     "output_type": "stream",
     "text": [
      "root\n",
      " |-- ID OMM station: string (nullable = true)\n",
      " |-- Date: string (nullable = true)\n",
      " |-- Pression au niveau mer: string (nullable = true)\n",
      " |-- Variation de pression en 3 heures: string (nullable = true)\n",
      " |-- Type de tendance barométrique4: string (nullable = true)\n",
      " |-- Direction du vent moyen 10 mn: string (nullable = true)\n",
      " |-- Vitesse du vent moyen 10 mn: string (nullable = true)\n",
      " |-- Température: string (nullable = true)\n",
      " |-- Point de rosée: string (nullable = true)\n",
      " |-- Humidité: string (nullable = true)\n",
      " |-- Visibilité horizontale: string (nullable = true)\n",
      " |-- Temps présent11: string (nullable = true)\n",
      " |-- Temps passé 112: string (nullable = true)\n",
      " |-- Temps passé 2: string (nullable = true)\n",
      " |-- Nebulosité totale: string (nullable = true)\n",
      " |-- Nébulosité  des nuages de l' étage inférieur: string (nullable = true)\n",
      " |-- Hauteur de la base des nuages de l'étage inférieur: string (nullable = true)\n",
      " |-- Type des nuages de l'étage inférieur: string (nullable = true)\n",
      " |-- Type des nuages de l'étage moyen: string (nullable = true)\n",
      " |-- Type des nuages de l'étage supérieur: string (nullable = true)\n",
      " |-- Pression station: string (nullable = true)\n",
      " |-- Niveau barométrique: string (nullable = true)\n",
      " |-- Géopotentiel: string (nullable = true)\n",
      " |-- Variation de pression en 24 heures: string (nullable = true)\n",
      " |-- Température minimale sur 12 heures: string (nullable = true)\n",
      " |-- Température minimale sur 24 heures: string (nullable = true)\n",
      " |-- Température maximale sur 12 heures: string (nullable = true)\n",
      " |-- Température maximale sur 24 heures: string (nullable = true)\n",
      " |-- Température minimale du sol sur 12 heures: string (nullable = true)\n",
      " |-- Méthode de mesure Température du thermomètre mouillé: string (nullable = true)\n",
      " |-- Température du thermomètre mouillé: string (nullable = true)\n",
      " |-- Rafale sur les 10 dernières minutes: string (nullable = true)\n",
      " |-- Rafales sur une période: string (nullable = true)\n",
      " |-- Periode de mesure de la rafale: string (nullable = true)\n",
      " |-- Etat du sol: string (nullable = true)\n",
      " |-- Hauteur totale de la couche de neige, glace, autre au sol: string (nullable = true)\n",
      " |-- Hauteur de la neige fraîche: string (nullable = true)\n",
      " |-- Periode de mesure de la neige fraiche: string (nullable = true)\n",
      " |-- Précipitations dans la dernière heure: string (nullable = true)\n",
      " |-- Précipitations dans les 3 dernières heures: string (nullable = true)\n",
      " |-- Précipitations dans les 6 dernières heures: string (nullable = true)\n",
      " |-- Précipitations dans les 12 dernières heures: string (nullable = true)\n",
      " |-- Précipitations dans les 24 dernières heures: string (nullable = true)\n",
      " |-- Phénomène spécial 1: string (nullable = true)\n",
      " |-- Phénomène spécial 2: string (nullable = true)\n",
      " |-- Phénomène spécial 3: string (nullable = true)\n",
      " |-- Phénomène spécial 4: string (nullable = true)\n",
      " |-- Nébulosité couche nuageuse 1: string (nullable = true)\n",
      " |-- Type nuage 1: string (nullable = true)\n",
      " |-- Hauteur de base 1: string (nullable = true)\n",
      " |-- Nébulosité couche nuageuse 2: string (nullable = true)\n",
      " |-- Type nuage 2: string (nullable = true)\n",
      " |-- Hauteur de base 2: string (nullable = true)\n",
      " |-- Nébulosité couche nuageuse 3: string (nullable = true)\n",
      " |-- Type nuage 3: string (nullable = true)\n",
      " |-- Hauteur de base 3: string (nullable = true)\n",
      " |-- Nébulosité couche nuageuse 4: string (nullable = true)\n",
      " |-- Type nuage 4: string (nullable = true)\n",
      " |-- Hauteur de base 4: string (nullable = true)\n",
      " |-- Coordonnees: string (nullable = true)\n",
      " |-- Nom: string (nullable = true)\n",
      " |-- Type de tendance barométrique61: string (nullable = true)\n",
      " |-- Temps passé 162: string (nullable = true)\n",
      " |-- Temps présent63: string (nullable = true)\n",
      " |-- Température (°C): string (nullable = true)\n",
      " |-- Température minimale sur 12 heures (°C): string (nullable = true)\n",
      " |-- Température minimale sur 24 heures (°C): string (nullable = true)\n",
      " |-- Température maximale sur 12 heures (°C): string (nullable = true)\n",
      " |-- Température maximale sur 24 heures (°C): string (nullable = true)\n",
      " |-- Température minimale du sol sur 12 heures (en °C): string (nullable = true)\n",
      " |-- Altitude: string (nullable = true)\n",
      " |-- Longitude: string (nullable = true)\n",
      " |-- Latitude: string (nullable = true)\n",
      " |-- communes (name): string (nullable = true)\n",
      " |-- communes (code): string (nullable = true)\n",
      " |-- EPCI (name): string (nullable = true)\n",
      " |-- EPCI (code): string (nullable = true)\n",
      " |-- department (name): string (nullable = true)\n",
      " |-- department (code): string (nullable = true)\n",
      " |-- region (name): string (nullable = true)\n",
      " |-- region (code): string (nullable = true)\n",
      " |-- mois_de_l_annee: string (nullable = true)\n",
      "\n"
     ]
    }
   ],
   "source": [
    "meteo_file_path = \"../dataset/extract_meteo.csv\"\n",
    "meteo_dataframe = spark.read.csv(path=meteo_file_path,\n",
    "                                 header=True,\n",
    "                                 sep=\";\")\n",
    "meteo_dataframe.printSchema()\n"
   ],
   "metadata": {
    "collapsed": false,
    "pycharm": {
     "name": "#%%\n"
    }
   }
  },
  {
   "cell_type": "code",
   "execution_count": 78,
   "outputs": [
    {
     "data": {
      "text/plain": "99999"
     },
     "execution_count": 78,
     "metadata": {},
     "output_type": "execute_result"
    }
   ],
   "source": [
    "meteo_dataframe.count()"
   ],
   "metadata": {
    "collapsed": false,
    "pycharm": {
     "name": "#%%\n"
    }
   }
  },
  {
   "cell_type": "code",
   "execution_count": 79,
   "outputs": [
    {
     "name": "stdout",
     "output_type": "stream",
     "text": [
      "root\n",
      " |-- year: integer (nullable = true)\n",
      " |-- month: integer (nullable = true)\n",
      " |-- Date: date (nullable = true)\n",
      " |-- Communes: string (nullable = true)\n",
      " |-- CodePostal: string (nullable = true)\n",
      " |-- Temperature: integer (nullable = true)\n",
      "\n",
      "None\n",
      "+----+-----+----------+-----------------------+----------+-----------+\n",
      "|year|month|Date      |Communes               |CodePostal|Temperature|\n",
      "+----+-----+----------+-----------------------+----------+-----------+\n",
      "|2013|4    |2013-04-03|Matoury                |97307     |302        |\n",
      "|2013|4    |2013-04-03|Carpiquet              |14137     |277        |\n",
      "|2013|4    |2013-04-03|Thuilley-aux-Groseilles|54523     |278        |\n",
      "|2013|4    |2013-04-03|Perpignan              |66136     |286        |\n",
      "|2013|4    |2013-04-03|Bangor                 |56009     |276        |\n",
      "+----+-----+----------+-----------------------+----------+-----------+\n",
      "only showing top 5 rows\n",
      "\n"
     ]
    }
   ],
   "source": [
    "from pyspark.sql.functions import col, year, month\n",
    "\n",
    "meteo_dataframe_subset = meteo_dataframe.select(col(\"Date\").cast(\"DATE\"),\n",
    "                                                col(\"mois_de_l_annee\").cast(\"INT\"),\n",
    "                                                col(\"communes (name)\").cast(\"STRING\").alias(\"Communes\"),\n",
    "                                                col(\"communes (code)\").cast(\"STRING\").alias(\"CodePostal\"),\n",
    "                                                col(\"Température\").cast(\"INT\").alias(\"Temperature\"))\n",
    "\n",
    "meteo_dataframe_subset = meteo_dataframe_subset.select(year(\"Date\").alias(\"year\"),\n",
    "                                                       month(\"Date\").alias(\"month\"),\n",
    "                                                       \"Date\",\n",
    "                                                       \"Communes\",\n",
    "                                                       \"CodePostal\",\n",
    "                                                       \"Temperature\")\n",
    "\n",
    "print(meteo_dataframe_subset.printSchema())\n",
    "meteo_dataframe_subset.show(5, truncate=False)"
   ],
   "metadata": {
    "collapsed": false,
    "pycharm": {
     "name": "#%%\n"
    }
   }
  },
  {
   "cell_type": "markdown",
   "source": [
    "## Filtre sur les communes non renseignées"
   ],
   "metadata": {
    "collapsed": false,
    "pycharm": {
     "name": "#%% md\n"
    }
   }
  },
  {
   "cell_type": "code",
   "execution_count": 80,
   "outputs": [
    {
     "name": "stdout",
     "output_type": "stream",
     "text": [
      "99999\n"
     ]
    }
   ],
   "source": [
    "print(meteo_dataframe_subset.count())\n",
    "meteo_dataframe_subset = meteo_dataframe_subset.where(col(\"Communes\").isNotNull())"
   ],
   "metadata": {
    "collapsed": false,
    "pycharm": {
     "name": "#%%\n"
    }
   }
  },
  {
   "cell_type": "code",
   "execution_count": 81,
   "outputs": [
    {
     "data": {
      "text/plain": "86901"
     },
     "execution_count": 81,
     "metadata": {},
     "output_type": "execute_result"
    }
   ],
   "source": [
    "meteo_dataframe_subset.count()"
   ],
   "metadata": {
    "collapsed": false,
    "pycharm": {
     "name": "#%%\n"
    }
   }
  },
  {
   "cell_type": "markdown",
   "source": [
    "## INSEE Dataset"
   ],
   "metadata": {
    "collapsed": false,
    "pycharm": {
     "name": "#%% md\n"
    }
   }
  },
  {
   "cell_type": "code",
   "execution_count": 82,
   "outputs": [
    {
     "name": "stdout",
     "output_type": "stream",
     "text": [
      "root\n",
      " |-- CODGEO: string (nullable = true)\n",
      " |-- Nb Pharmacies et parfumerie: string (nullable = true)\n",
      " |-- Dynamique Entrepreneuriale: string (nullable = true)\n",
      " |-- Dynamique Entrepreneuriale Service et Commerce: string (nullable = true)\n",
      " |-- Synergie Médicale COMMUNE: string (nullable = true)\n",
      " |-- Orientation Economique: string (nullable = true)\n",
      " |-- Indice Fiscal Partiel: string (nullable = true)\n",
      " |-- Score Fiscal: string (nullable = true)\n",
      " |-- Indice Evasion Client: string (nullable = true)\n",
      " |-- Score Evasion Client: string (nullable = true)\n",
      " |-- Indice Synergie Médicale: string (nullable = true)\n",
      " |-- Score Synergie Médicale: string (nullable = true)\n",
      " |-- SEG Croissance POP: string (nullable = true)\n",
      " |-- LIBGEO: string (nullable = true)\n",
      " |-- REG: string (nullable = true)\n",
      " |-- DEP: string (nullable = true)\n",
      " |-- Nb Omnipraticiens BV: string (nullable = true)\n",
      " |-- Nb Infirmiers Libéraux BV: string (nullable = true)\n",
      " |-- Nb dentistes Libéraux BV: string (nullable = true)\n",
      " |-- Nb pharmaciens Libéraux BV: string (nullable = true)\n",
      " |-- Densité Médicale BV: string (nullable = true)\n",
      " |-- Score équipement de santé BV: string (nullable = true)\n",
      " |-- Indice Démographique: string (nullable = true)\n",
      " |-- Score Démographique: string (nullable = true)\n",
      " |-- Indice Ménages: string (nullable = true)\n",
      " |-- Score Ménages: string (nullable = true)\n",
      " |-- Population: string (nullable = true)\n",
      " |-- Evolution Population: string (nullable = true)\n",
      " |-- Evolution Pop %: string (nullable = true)\n",
      " |-- Nb Ménages: string (nullable = true)\n",
      " |-- Nb Résidences Principales: string (nullable = true)\n",
      " |-- Nb propriétaire: string (nullable = true)\n",
      " |-- Nb Logement: string (nullable = true)\n",
      " |-- Nb Résidences Secondaires: string (nullable = true)\n",
      " |-- Nb Log Vacants: string (nullable = true)\n",
      " |-- Nb Occupants Résidence Principale: string (nullable = true)\n",
      " |-- Nb Femme: string (nullable = true)\n",
      " |-- Nb Homme: string (nullable = true)\n",
      " |-- Nb Mineurs: string (nullable = true)\n",
      " |-- Nb Majeurs: string (nullable = true)\n",
      " |-- Nb Etudiants: string (nullable = true)\n",
      " |-- Nb Entreprises Secteur Services: string (nullable = true)\n",
      " |-- Nb Entreprises Secteur Commerce: string (nullable = true)\n",
      " |-- Nb Entreprises Secteur Construction: string (nullable = true)\n",
      " |-- Nb Entreprises Secteur Industrie: string (nullable = true)\n",
      " |-- Nb Création Enteprises: string (nullable = true)\n",
      " |-- Nb Création Industrielles: string (nullable = true)\n",
      " |-- Nb Création Construction: string (nullable = true)\n",
      " |-- Nb Création Commerces: string (nullable = true)\n",
      " |-- Nb Création Services: string (nullable = true)\n",
      " |-- Moyenne Revenus Fiscaux Départementaux: string (nullable = true)\n",
      " |-- Moyenne Revenus Fiscaux Régionaux: string (nullable = true)\n",
      " |-- Dep Moyenne Salaires Horaires: string (nullable = true)\n",
      " |-- Dep Moyenne Salaires Cadre Horaires: string (nullable = true)\n",
      " |-- Dep Moyenne Salaires Prof Intermédiaire Horaires: string (nullable = true)\n",
      " |-- Dep Moyenne Salaires Employé Horaires: string (nullable = true)\n",
      " |-- Dep Moyenne Salaires Ouvrié Horaires: string (nullable = true)\n",
      " |-- Reg Moyenne Salaires Horaires: string (nullable = true)\n",
      " |-- Reg Moyenne Salaires Cadre Horaires: string (nullable = true)\n",
      " |-- Reg Moyenne Salaires Prof Intermédiaire Horaires: string (nullable = true)\n",
      " |-- Reg Moyenne Salaires Employé Horaires: string (nullable = true)\n",
      " |-- Reg Moyenne Salaires Ouvrié Horaires: string (nullable = true)\n",
      " |-- Valeur ajoutée régionale: string (nullable = true)\n",
      " |-- Urbanité Ruralité: string (nullable = true)\n",
      " |-- Score Urbanité: string (nullable = true)\n",
      " |-- Nb Atifs: string (nullable = true)\n",
      " |-- Nb Actifs Salariés: string (nullable = true)\n",
      " |-- Nb Actifs Non Salariés: string (nullable = true)\n",
      " |-- Nb Logement Secondaire et Occasionnel: string (nullable = true)\n",
      " |-- Nb Hotel: string (nullable = true)\n",
      " |-- Capacité Hotel: string (nullable = true)\n",
      " |-- Nb Camping: string (nullable = true)\n",
      " |-- Capacité Camping: string (nullable = true)\n",
      " |-- Dynamique Démographique BV: string (nullable = true)\n",
      " |-- Taux étudiants: string (nullable = true)\n",
      " |-- Taux Propriété: string (nullable = true)\n",
      " |-- Dynamique Démographique INSEE: string (nullable = true)\n",
      " |-- Capacité Fisc: string (nullable = true)\n",
      " |-- Capacité Fiscale: string (nullable = true)\n",
      " |-- Moyenne Revnus fiscaux: string (nullable = true)\n",
      " |-- Taux Evasion Client: string (nullable = true)\n",
      " |-- Nb Education, santé, action sociale: string (nullable = true)\n",
      " |-- Nb Services personnels et domestiques: string (nullable = true)\n",
      " |-- Nb Santé, action sociale: string (nullable = true)\n",
      " |-- Nb Industries des biens intermédiaires: string (nullable = true)\n",
      " |-- Nb de Commerce: string (nullable = true)\n",
      " |-- Nb de Services aux particuliers: string (nullable = true)\n",
      " |-- Nb institution de Education, santé, action sociale, administration: string (nullable = true)\n",
      " |-- PIB Régionnal: string (nullable = true)\n",
      " |-- SEG Environnement Démographique Obsolète: string (nullable = true)\n",
      " |-- Score Croissance Population: string (nullable = true)\n",
      " |-- Score Croissance Entrepreneuriale: string (nullable = true)\n",
      " |-- Score VA Région: string (nullable = true)\n",
      " |-- Score PIB: string (nullable = true)\n",
      " |-- Environnement Démographique: string (nullable = true)\n",
      " |-- Fidélité: string (nullable = true)\n",
      " |-- SYN MEDICAL: string (nullable = true)\n",
      " |-- Seg Cap Fiscale: string (nullable = true)\n",
      " |-- Seg Dyn Entre: string (nullable = true)\n",
      " |-- DYN SetC: string (nullable = true)\n",
      " |-- CP: string (nullable = true)\n",
      "\n"
     ]
    }
   ],
   "source": [
    "insee_file_path = \"../dataset/MDB-INSEE-V2.csv\"\n",
    "insee_dataframe = spark.read.csv(path=insee_file_path,\n",
    "                                 header=True,\n",
    "                                 sep=\";\")\n",
    "insee_dataframe.printSchema()"
   ],
   "metadata": {
    "collapsed": false,
    "pycharm": {
     "name": "#%%\n"
    }
   }
  },
  {
   "cell_type": "code",
   "execution_count": 83,
   "outputs": [
    {
     "name": "stdout",
     "output_type": "stream",
     "text": [
      "root\n",
      " |-- CodePostal: integer (nullable = true)\n",
      " |-- Population: integer (nullable = true)\n",
      "\n",
      "None\n",
      "+----------+----------+\n",
      "|CodePostal|Population|\n",
      "+----------+----------+\n",
      "|1001      |725       |\n",
      "|1002      |167       |\n",
      "|1004      |11432     |\n",
      "|1005      |1407      |\n",
      "|1006      |86        |\n",
      "+----------+----------+\n",
      "only showing top 5 rows\n",
      "\n"
     ]
    }
   ],
   "source": [
    "insee_dataframe_subset = insee_dataframe.select(col(\"CODGEO\").cast(\"INT\").alias(\"CodePostal\"),\n",
    "                                                #col(\"LIBGEO\").cast(\"STRING\").alias(\"Communes\"),\n",
    "                                                col(\"Population\").cast(\"INT\"))\n",
    "print(insee_dataframe_subset.printSchema())\n",
    "insee_dataframe_subset.show(5, truncate=False)"
   ],
   "metadata": {
    "collapsed": false,
    "pycharm": {
     "name": "#%%\n"
    }
   }
  },
  {
   "cell_type": "markdown",
   "source": [
    "## Filtre les communes de plus de 100 000 habitants\n",
    "\n",
    "* Jointure des deux tables sur le code postal"
   ],
   "metadata": {
    "collapsed": false,
    "pycharm": {
     "name": "#%% md\n"
    }
   }
  },
  {
   "cell_type": "code",
   "execution_count": 84,
   "outputs": [
    {
     "name": "stdout",
     "output_type": "stream",
     "text": [
      "+----------+----+-----+----------+--------------------+-----------+----------+\n",
      "|CodePostal|year|month|      Date|            Communes|Temperature|Population|\n",
      "+----------+----+-----+----------+--------------------+-----------+----------+\n",
      "|     97307|2013|    4|2013-04-03|             Matoury|        302|     18037|\n",
      "|     14137|2013|    4|2013-04-03|           Carpiquet|        277|      1848|\n",
      "|     54523|2013|    4|2013-04-03|Thuilley-aux-Gros...|        278|       219|\n",
      "|     66136|2013|    4|2013-04-03|           Perpignan|        286|    105096|\n",
      "|     56009|2013|    4|2013-04-03|              Bangor|        276|       742|\n",
      "|     86194|2013|    4|2013-04-03|            Poitiers|        278|     83507|\n",
      "|     87085|2013|    4|2013-04-03|             Limoges|        278|    133924|\n",
      "|     65284|2013|    4|2013-04-03|               Louey|        282|       910|\n",
      "|     97230|2013|    4|2013-04-03|          La Trinité|        300|     12883|\n",
      "|     65284|2013|    4|2013-04-04|               Louey|        280|       910|\n",
      "|     97230|2013|    4|2013-04-04|          La Trinité|        299|     12883|\n",
      "|     91027|2013|    4|2013-04-04|          Athis-Mons|        274|     29400|\n",
      "|     21473|2013|    4|2013-04-05|               Ouges|        279|      1043|\n",
      "|     83153|2013|    4|2013-04-05|Saint-Mandrier-su...|        283|      5241|\n",
      "|     97230|2013|    4|2013-04-05|          La Trinité|        300|     12883|\n",
      "|     44150|2013|    4|2013-04-06|Saint-Aignan-Gran...|        276|      3478|\n",
      "|     05046|2013|    4|2013-04-06|              Embrun|        277|      6186|\n",
      "|     83153|2013|    4|2013-04-06|Saint-Mandrier-su...|        282|      5241|\n",
      "|     46127|2013|    4|2013-04-06|             Gourdon|        274|      4888|\n",
      "|     26198|2013|    4|2013-04-06|          Montélimar|        280|     31349|\n",
      "+----------+----+-----+----------+--------------------+-----------+----------+\n",
      "only showing top 20 rows\n",
      "\n"
     ]
    }
   ],
   "source": [
    "insee_and_meteo_dataframe = meteo_dataframe_subset.join(insee_dataframe_subset,\n",
    "                                                        on=\"CodePostal\",\n",
    "                                                        how='left')\n",
    "\n",
    "insee_and_meteo_dataframe.show()"
   ],
   "metadata": {
    "collapsed": false,
    "pycharm": {
     "name": "#%%\n"
    }
   }
  },
  {
   "cell_type": "code",
   "execution_count": 85,
   "outputs": [
    {
     "name": "stdout",
     "output_type": "stream",
     "text": [
      "root\n",
      " |-- CodePostal: string (nullable = true)\n",
      " |-- year: integer (nullable = true)\n",
      " |-- month: integer (nullable = true)\n",
      " |-- Date: date (nullable = true)\n",
      " |-- Communes: string (nullable = true)\n",
      " |-- Temperature: integer (nullable = true)\n",
      " |-- Population: integer (nullable = true)\n",
      "\n"
     ]
    }
   ],
   "source": [
    "insee_and_meteo_dataframe.printSchema()\n"
   ],
   "metadata": {
    "collapsed": false,
    "pycharm": {
     "name": "#%%\n"
    }
   }
  },
  {
   "cell_type": "code",
   "execution_count": 86,
   "outputs": [
    {
     "name": "stdout",
     "output_type": "stream",
     "text": [
      "+----------+----+-----+----------+---------+-----------+----------+\n",
      "|CodePostal|year|month|Date      |Communes |Temperature|Population|\n",
      "+----------+----+-----+----------+---------+-----------+----------+\n",
      "|97307     |2013|4    |2013-04-03|Matoury  |302        |18037     |\n",
      "|14137     |2013|4    |2013-04-03|Carpiquet|277        |1848      |\n",
      "|66136     |2013|4    |2013-04-03|Perpignan|286        |105096    |\n",
      "|86194     |2013|4    |2013-04-03|Poitiers |278        |83507     |\n",
      "|87085     |2013|4    |2013-04-03|Limoges  |278        |133924    |\n",
      "+----------+----+-----+----------+---------+-----------+----------+\n",
      "only showing top 5 rows\n",
      "\n"
     ]
    }
   ],
   "source": [
    "insee_and_meteo_dataframe = insee_and_meteo_dataframe.where(col(\"Population\") >= 1000)\n",
    "insee_and_meteo_dataframe.show(5, truncate=False)"
   ],
   "metadata": {
    "collapsed": false,
    "pycharm": {
     "name": "#%%\n"
    }
   }
  },
  {
   "cell_type": "code",
   "execution_count": 87,
   "outputs": [
    {
     "name": "stdout",
     "output_type": "stream",
     "text": [
      "+----------------+----+-----+----------------+\n",
      "|Communes        |year|month|max(Temperature)|\n",
      "+----------------+----+-----+----------------+\n",
      "|Perpignan       |2010|1    |285             |\n",
      "|Mont-de-Marsan  |2010|2    |290             |\n",
      "|Perpignan       |2010|2    |289             |\n",
      "|Clermont-Ferrand|2011|4    |298             |\n",
      "|Bourges         |2011|9    |300             |\n",
      "+----------------+----+-----+----------------+\n",
      "only showing top 5 rows\n",
      "\n"
     ]
    }
   ],
   "source": [
    "import pyspark.sql.functions as F\n",
    "\n",
    "insee_and_meteo_dataframe.groupby(\"Communes\", \"year\", \"month\").agg(F.max(\"Temperature\")).show(5, truncate=False)\n"
   ],
   "metadata": {
    "collapsed": false,
    "pycharm": {
     "name": "#%%\n"
    }
   }
  },
  {
   "cell_type": "code",
   "execution_count": 89,
   "outputs": [
    {
     "name": "stdout",
     "output_type": "stream",
     "text": [
      "+-------------------------+-----+-----------------------------+\n",
      "|Communes                 |month|stddev_samp(max(Temperature))|\n",
      "+-------------------------+-----+-----------------------------+\n",
      "|Millau                   |1    |2.006932429798716            |\n",
      "|Boos                     |10   |3.3990544903798576           |\n",
      "|Sainte-Marie             |4    |1.2247448713915856           |\n",
      "|Lorp-Sentaraille         |10   |2.0528725518856965           |\n",
      "|Mauguio                  |2    |2.455153310442704            |\n",
      "|Guipavas                 |1    |1.0540925533894523           |\n",
      "|Perpignan                |12   |1.7268882005337967           |\n",
      "|Holtzheim                |12   |2.5877458475338253           |\n",
      "|Saint-Georges            |9    |0.8864052604279169           |\n",
      "|Saint-Aignan-Grandlieu   |6    |3.240370349203916            |\n",
      "|Boos                     |1    |2.635231383473653            |\n",
      "|La Désirade              |10   |1.5275252316519468           |\n",
      "|Montélimar               |9    |2.1001700611413234           |\n",
      "|Parçay-Meslay            |11   |2.000000000000005            |\n",
      "|Saint-Jacques-de-la-Lande|4    |3.2702361450580995           |\n",
      "|Ouges                    |7    |3.2486260832190945           |\n",
      "|La Désirade              |8    |NaN                          |\n",
      "|Nice                     |9    |1.9999999999999987           |\n",
      "|Maripasoula              |9    |1.1877349391654173           |\n",
      "|Matoury                  |11   |0.5175491695067682           |\n",
      "+-------------------------+-----+-----------------------------+\n",
      "only showing top 20 rows\n",
      "\n"
     ]
    }
   ],
   "source": [
    "df_agg = insee_and_meteo_dataframe.groupby(\"Communes\", \"year\", \"month\").agg(F.max(\"Temperature\"))\n",
    "df_agg.groupby(\"Communes\", \"month\").agg(F.stddev_samp(\"max(Temperature)\")).show(truncate=False)"
   ],
   "metadata": {
    "collapsed": false,
    "pycharm": {
     "name": "#%%\n"
    }
   }
  },
  {
   "cell_type": "code",
   "execution_count": 88,
   "outputs": [
    {
     "name": "stdout",
     "output_type": "stream",
     "text": [
      "+----------------+----+-----+----------------+\n",
      "|        Communes|year|month|max(Temperature)|\n",
      "+----------------+----+-----+----------------+\n",
      "|Clermont-Ferrand|2012|    1|             283|\n",
      "|Clermont-Ferrand|2017|    1|             281|\n",
      "|Clermont-Ferrand|2015|    1|             287|\n",
      "|Clermont-Ferrand|2016|    1|             282|\n",
      "|Clermont-Ferrand|2013|    1|             281|\n",
      "|Clermont-Ferrand|2010|    1|             281|\n",
      "|Clermont-Ferrand|2018|    1|             285|\n",
      "|Clermont-Ferrand|2014|    1|             285|\n",
      "|Clermont-Ferrand|2011|    1|             287|\n",
      "+----------------+----+-----+----------------+\n",
      "\n"
     ]
    }
   ],
   "source": [
    "insee_and_meteo_dataframe.groupby(\"Communes\", \"year\", \"month\").agg(F.max(\"Temperature\"))\\\n",
    "    .where((col(\"Communes\") == \"Clermont-Ferrand\") & (col(\"month\") == 1)).show()"
   ],
   "metadata": {
    "collapsed": false,
    "pycharm": {
     "name": "#%%\n"
    }
   }
  },
  {
   "cell_type": "code",
   "execution_count": 52,
   "outputs": [
    {
     "name": "stdout",
     "output_type": "stream",
     "text": [
      "root\n",
      " |-- Communes: string (nullable = true)\n",
      " |-- year: integer (nullable = true)\n",
      " |-- month: integer (nullable = true)\n",
      " |-- max(Temperature): integer (nullable = true)\n",
      "\n"
     ]
    }
   ],
   "source": [
    "insee_and_meteo_dataframe.printSchema()\n"
   ],
   "metadata": {
    "collapsed": false,
    "pycharm": {
     "name": "#%%\n"
    }
   }
  },
  {
   "cell_type": "code",
   "execution_count": 90,
   "outputs": [
    {
     "name": "stdout",
     "output_type": "stream",
     "text": [
      "== Physical Plan ==\n",
      "*(3) HashAggregate(keys=[Communes#3600, year#3610, month#3611], functions=[max(Temperature#3602)])\n",
      "+- Exchange hashpartitioning(Communes#3600, year#3610, month#3611, 200), true, [id=#2044]\n",
      "   +- *(2) HashAggregate(keys=[Communes#3600, year#3610, month#3611], functions=[partial_max(Temperature#3602)])\n",
      "      +- *(2) Project [year#3610, month#3611, Communes#3600, Temperature#3602]\n",
      "         +- *(2) BroadcastHashJoin [cast(CodePostal#3601 as int)], [CodePostal#3888], Inner, BuildRight\n",
      "            :- *(2) Project [year(cast(Date#3186 as date)) AS year#3610, month(cast(Date#3186 as date)) AS month#3611, communes (name)#3258 AS Communes#3600, communes (code)#3259 AS CodePostal#3601, cast(Température#3192 as int) AS Temperature#3602]\n",
      "            :  +- *(2) Filter (isnotnull(communes (name)#3258) AND isnotnull(communes (code)#3259))\n",
      "            :     +- FileScan csv [Date#3186,Température#3192,communes (name)#3258,communes (code)#3259] Batched: false, DataFilters: [isnotnull(communes (name)#3258), isnotnull(communes (code)#3259)], Format: CSV, Location: InMemoryFileIndex[file:/Users/simon.grah/Documents/Spark/BBL/code_optim_spark/dataset/extract_met..., PartitionFilters: [], PushedFilters: [IsNotNull(communes (name)), IsNotNull(communes (code))], ReadSchema: struct<Date:string,Température:string,communes (name):string,communes (code):string>\n",
      "            +- BroadcastExchange HashedRelationBroadcastMode(List(cast(input[0, int, true] as bigint))), [id=#2038]\n",
      "               +- *(1) Project [cast(CODGEO#3686 as int) AS CodePostal#3888]\n",
      "                  +- *(1) Filter ((isnotnull(Population#3712) AND (cast(Population#3712 as int) >= 1000)) AND isnotnull(cast(CODGEO#3686 as int)))\n",
      "                     +- FileScan csv [CODGEO#3686,Population#3712] Batched: false, DataFilters: [isnotnull(Population#3712), (cast(Population#3712 as int) >= 1000), isnotnull(cast(CODGEO#3686 a..., Format: CSV, Location: InMemoryFileIndex[file:/Users/simon.grah/Documents/Spark/BBL/code_optim_spark/dataset/MDB-INSEE-V..., PartitionFilters: [], PushedFilters: [IsNotNull(Population)], ReadSchema: struct<CODGEO:string,Population:string>\n",
      "\n",
      "\n"
     ]
    }
   ],
   "source": [
    "df_agg.explain()\n"
   ],
   "metadata": {
    "collapsed": false,
    "pycharm": {
     "name": "#%%\n"
    }
   }
  },
  {
   "cell_type": "code",
   "execution_count": null,
   "outputs": [],
   "source": [
    "import pyspark.sql.functions as F\n",
    "\n",
    "(fire_ts_df.select(F.sum(\"NumAlarms\"), F.avg(\"NumAlarms\"), F.min(\"NumAlarms\"), F.max(\"NumAlarms\")).show())\n",
    "\n",
    "avg_df = data_df.groupBy(\"name\").agg(avg(\"age\"))\n",
    ".agg(countDistinct(\"CallType\").alias(\"DisctinctCallType\"))\\\n",
    "    .where(col(\"CallType\").isNotNull())"
   ],
   "metadata": {
    "collapsed": false,
    "pycharm": {
     "name": "#%%\n"
    }
   }
  },
  {
   "cell_type": "code",
   "execution_count": null,
   "outputs": [],
   "source": [
    "# In Python\n",
    "fire_ts_df = (fire_df_pt\n",
    "                .withColumn(\"IncidentDate\", to_timestamp(col(\"CallDate\"), \"MM/dd/yyyy\")).drop(\"CallDate\")\n",
    "                .withColumn(\"OnWatchDate\", to_timestamp(col(\"WatchDate\"), \"MM/dd/yyyy\")).drop(\"WatchDate\")\n",
    "                .withColumn(\"AvailableDtTS\", to_timestamp(col(\"AvailableDtTm\"), \"MM/dd/yyyy hh:mm:ss a\"))\n",
    "                .drop(\"AvailableDtTm\"))\n"
   ],
   "metadata": {
    "collapsed": false,
    "pycharm": {
     "name": "#%%\n"
    }
   }
  },
  {
   "cell_type": "code",
   "execution_count": null,
   "outputs": [],
   "source": [
    "%%time\n",
    "# In Python to save as a Parquet file\n",
    "parquet_path = \"dataset/fire-calls.parquet\"\n",
    "fire_df.repartition(12)\n",
    "fire_df.write.format(\"parquet\").save(parquet_path)"
   ],
   "metadata": {
    "collapsed": false,
    "pycharm": {
     "name": "#%%\n"
    }
   }
  },
  {
   "cell_type": "code",
   "execution_count": null,
   "outputs": [],
   "source": [
    "fire_df_pt = spark.read.parquet(parquet_path)\n",
    "fire_df_pt.count()\n",
    "fire_df_pt.printSchema()\n",
    "\n",
    "fire_df.rdd.getNumPartitions()"
   ],
   "metadata": {
    "collapsed": false,
    "pycharm": {
     "name": "#%%\n"
    }
   }
  },
  {
   "cell_type": "code",
   "execution_count": 93,
   "outputs": [
    {
     "name": "stdout",
     "output_type": "stream",
     "text": [
      "CPU times: user 13.3 ms, sys: 3.86 ms, total: 17.2 ms\n",
      "Wall time: 9.21 s\n"
     ]
    },
    {
     "data": {
      "text/plain": "[Row(Communes='Millau', month=1, stddev_samp(max(Temperature))=2.1087839379532722),\n Row(Communes='Boos', month=10, stddev_samp(max(Temperature))=2.686667418602789),\n Row(Communes='Sainte-Marie', month=4, stddev_samp(max(Temperature))=0.40451991747794575),\n Row(Communes='Lorp-Sentaraille', month=10, stddev_samp(max(Temperature))=2.06265495285698),\n Row(Communes='Mauguio', month=2, stddev_samp(max(Temperature))=2.6097137890209536),\n Row(Communes='Guipavas', month=1, stddev_samp(max(Temperature))=1.3142574813455559),\n Row(Communes='Perpignan', month=12, stddev_samp(max(Temperature))=1.2720777563426902),\n Row(Communes='Holtzheim', month=12, stddev_samp(max(Temperature))=2.3001976199685736),\n Row(Communes='Saint-Georges', month=9, stddev_samp(max(Temperature))=0.6741998624632584),\n Row(Communes='Saint-Aignan-Grandlieu', month=6, stddev_samp(max(Temperature))=3.9450774851245085),\n Row(Communes='Boos', month=1, stddev_samp(max(Temperature))=1.5447859516333022),\n Row(Communes='La Désirade', month=10, stddev_samp(max(Temperature))=0.6324555320336743),\n Row(Communes='Parçay-Meslay', month=11, stddev_samp(max(Temperature))=2.3276988246295582),\n Row(Communes='Montélimar', month=9, stddev_samp(max(Temperature))=1.778661396566647),\n Row(Communes='Saint-Jacques-de-la-Lande', month=4, stddev_samp(max(Temperature))=3.3790800254184212),\n Row(Communes='Ouges', month=7, stddev_samp(max(Temperature))=2.579640566928938),\n Row(Communes='La Désirade', month=8, stddev_samp(max(Temperature))=0.5773502691896313),\n Row(Communes='Nice', month=9, stddev_samp(max(Temperature))=1.361816968078112),\n Row(Communes='Maripasoula', month=9, stddev_samp(max(Temperature))=0.8201995322647312),\n Row(Communes='Matoury', month=11, stddev_samp(max(Temperature))=0.6030226891555276),\n Row(Communes='Poitiers', month=6, stddev_samp(max(Temperature))=3.1766191290284),\n Row(Communes='Saint-Jacques-de-la-Lande', month=6, stddev_samp(max(Temperature))=3.443043051509153),\n Row(Communes='Montélimar', month=12, stddev_samp(max(Temperature))=1.4709304414676958),\n Row(Communes='Le Lamentin', month=10, stddev_samp(max(Temperature))=0.981649817214033),\n Row(Communes='Matoury', month=5, stddev_samp(max(Temperature))=0.7862453931068956),\n Row(Communes='Gourdon', month=9, stddev_samp(max(Temperature))=2.638870281699407),\n Row(Communes='La Désirade', month=4, stddev_samp(max(Temperature))=1.4142135623730951),\n Row(Communes='Athis-Mons', month=9, stddev_samp(max(Temperature))=3.5316748537665883),\n Row(Communes='Parçay-Meslay', month=2, stddev_samp(max(Temperature))=2.8001623329566327),\n Row(Communes='Matoury', month=10, stddev_samp(max(Temperature))=0.3015113445777564),\n Row(Communes='Clermont-Ferrand', month=11, stddev_samp(max(Temperature))=2.022599587389727),\n Row(Communes='Clermont-Ferrand', month=2, stddev_samp(max(Temperature))=2.895921897490262),\n Row(Communes='La Désirade', month=9, stddev_samp(max(Temperature))=0.8944271909999133),\n Row(Communes='Maripasoula', month=12, stddev_samp(max(Temperature))=0.4830458915396525),\n Row(Communes='Perros-Guirec', month=5, stddev_samp(max(Temperature))=1.328019715078194),\n Row(Communes='Saint-Laurent-du-Maroni', month=10, stddev_samp(max(Temperature))=1.0090499582190304),\n Row(Communes='Perros-Guirec', month=7, stddev_samp(max(Temperature))=3.8328721725240307),\n Row(Communes='Abbeville', month=5, stddev_samp(max(Temperature))=2.5477262590217746),\n Row(Communes='Parçay-Meslay', month=1, stddev_samp(max(Temperature))=1.595448070434933),\n Row(Communes='Perros-Guirec', month=8, stddev_samp(max(Temperature))=2.6181186861075374),\n Row(Communes='Nice', month=6, stddev_samp(max(Temperature))=2.8793938756115165),\n Row(Communes='Carpiquet', month=3, stddev_samp(max(Temperature))=2.674231693686081),\n Row(Communes='Matoury', month=2, stddev_samp(max(Temperature))=0.4264014327112107),\n Row(Communes='Blagnac', month=5, stddev_samp(max(Temperature))=2.5009089256799273),\n Row(Communes='Limoges', month=5, stddev_samp(max(Temperature))=2.7961011816781345),\n Row(Communes='Guipavas', month=4, stddev_samp(max(Temperature))=3.5006492904239113),\n Row(Communes='Fretin', month=4, stddev_samp(max(Temperature))=2.696799449852993),\n Row(Communes='Blotzheim', month=4, stddev_samp(max(Temperature))=2.4120907566221095),\n Row(Communes='Mérignac', month=6, stddev_samp(max(Temperature))=3.1013193673309067),\n Row(Communes='Parçay-Meslay', month=7, stddev_samp(max(Temperature))=2.9480347845487036),\n Row(Communes='Mauguio', month=1, stddev_samp(max(Temperature))=1.9128750375000843),\n Row(Communes='Clermont-Ferrand', month=9, stddev_samp(max(Temperature))=2.4679767200905856),\n Row(Communes='Nice', month=8, stddev_samp(max(Temperature))=1.1908743922772966),\n Row(Communes='Blagnac', month=2, stddev_samp(max(Temperature))=2.4984843890695507),\n Row(Communes='Saint-Aignan-Grandlieu', month=12, stddev_samp(max(Temperature))=1.4459976109624495),\n Row(Communes='Saint-Georges', month=4, stddev_samp(max(Temperature))=0.6749485577105483),\n Row(Communes='Blagnac', month=11, stddev_samp(max(Temperature))=1.6895400127092182),\n Row(Communes='Saint-Jacques-de-la-Lande', month=12, stddev_samp(max(Temperature))=1.6895400127092213),\n Row(Communes='Maripasoula', month=8, stddev_samp(max(Temperature))=1.489356175728895),\n Row(Communes='Le Lamentin', month=5, stddev_samp(max(Temperature))=0.6741998624632404),\n Row(Communes='Nice', month=1, stddev_samp(max(Temperature))=2.6967994498529704),\n Row(Communes='Poitiers', month=9, stddev_samp(max(Temperature))=2.7732488332115324),\n Row(Communes='Mauguio', month=4, stddev_samp(max(Temperature))=2.157439559882372),\n Row(Communes='Montélimar', month=1, stddev_samp(max(Temperature))=2.3011854652449415),\n Row(Communes='Athis-Mons', month=11, stddev_samp(max(Temperature))=2.0889318714683736),\n Row(Communes='Le Lamentin', month=9, stddev_samp(max(Temperature))=0.6466697906828682),\n Row(Communes='Embrun', month=6, stddev_samp(max(Temperature))=2.6215886925159135),\n Row(Communes='Saint-Laurent-du-Maroni', month=8, stddev_samp(max(Temperature))=0.6741998624632551),\n Row(Communes='Abbeville', month=10, stddev_samp(max(Temperature))=2.7303013486693057),\n Row(Communes='Sainte-Marie', month=3, stddev_samp(max(Temperature))=0.6685579234215191),\n Row(Communes='Ouges', month=2, stddev_samp(max(Temperature))=3.502163833282434),\n Row(Communes='La Hague', month=12, stddev_samp(max(Temperature))=1.2060453783110534),\n Row(Communes='Les Abymes', month=10, stddev_samp(max(Temperature))=0.5222329678670957),\n Row(Communes='Saint-Mandrier-sur-Mer', month=2, stddev_samp(max(Temperature))=1.6949121725703926),\n Row(Communes='Blotzheim', month=3, stddev_samp(max(Temperature))=3.2566947363946506),\n Row(Communes='Mont-de-Marsan', month=7, stddev_samp(max(Temperature))=2.3779288161224423),\n Row(Communes='Carpiquet', month=5, stddev_samp(max(Temperature))=2.296241989148206),\n Row(Communes='Fretin', month=10, stddev_samp(max(Temperature))=2.1489955370316176),\n Row(Communes='Perpignan', month=1, stddev_samp(max(Temperature))=2.1105794120443386),\n Row(Communes='Les Abymes', month=12, stddev_samp(max(Temperature))=0.46709936649691464),\n Row(Communes='Mauguio', month=7, stddev_samp(max(Temperature))=1.1037127426019067),\n Row(Communes='La Hague', month=4, stddev_samp(max(Temperature))=2.1447610589527155),\n Row(Communes='Colombier-Saugnieu', month=12, stddev_samp(max(Temperature))=2.1105794120443524),\n Row(Communes='Marignane', month=7, stddev_samp(max(Temperature))=1.7529196424044382),\n Row(Communes='Abbeville', month=2, stddev_samp(max(Temperature))=3.137022328723383),\n Row(Communes='Abbeville', month=7, stddev_samp(max(Temperature))=4.002272081978166),\n Row(Communes='Guipavas', month=2, stddev_samp(max(Temperature))=2.5702257889260562),\n Row(Communes='Boos', month=8, stddev_samp(max(Temperature))=3.266914028977076),\n Row(Communes='Perpignan', month=11, stddev_samp(max(Temperature))=2.1447610589527235),\n Row(Communes='Mauguio', month=10, stddev_samp(max(Temperature))=2.4120907566220926),\n Row(Communes='La Désirade', month=5, stddev_samp(max(Temperature))=0.7071067811865476),\n Row(Communes='Limoges', month=9, stddev_samp(max(Temperature))=2.8919952219248795),\n Row(Communes='Limoges', month=7, stddev_samp(max(Temperature))=2.3587361793206987),\n Row(Communes='Clermont-Ferrand', month=8, stddev_samp(max(Temperature))=2.586679162731457),\n Row(Communes='La Hague', month=8, stddev_samp(max(Temperature))=2.1489955370316203),\n Row(Communes='Millau', month=11, stddev_samp(max(Temperature))=1.7215215257545735),\n Row(Communes='Saint-Georges', month=1, stddev_samp(max(Temperature))=0.5149286505444327),\n Row(Communes='La Trinité', month=2, stddev_samp(max(Temperature))=1.4832396974191309),\n Row(Communes='Sainte-Marie', month=5, stddev_samp(max(Temperature))=0.7006490497453667),\n Row(Communes='Millau', month=10, stddev_samp(max(Temperature))=2.4531982835029473),\n Row(Communes='Holtzheim', month=1, stddev_samp(max(Temperature))=2.8001623329566225),\n Row(Communes=\"Saint-Denis-d'Oléron\", month=3, stddev_samp(max(Temperature))=2.289634084831944),\n Row(Communes='Lorp-Sentaraille', month=4, stddev_samp(max(Temperature))=2.583162262175427),\n Row(Communes='Fretin', month=7, stddev_samp(max(Temperature))=4.02718038063629),\n Row(Communes='Marignane', month=1, stddev_samp(max(Temperature))=1.7320508075688836),\n Row(Communes='Perpignan', month=6, stddev_samp(max(Temperature))=3.124681801981821),\n Row(Communes='Athis-Mons', month=12, stddev_samp(max(Temperature))=2.6866674186028),\n Row(Communes='Marignane', month=4, stddev_samp(max(Temperature))=2.1489955370316194),\n Row(Communes='Maripasoula', month=11, stddev_samp(max(Temperature))=10.42200469286892),\n Row(Communes='Colombier-Saugnieu', month=7, stddev_samp(max(Temperature))=2.272363607268076),\n Row(Communes='Clermont-Ferrand', month=4, stddev_samp(max(Temperature))=2.0714509627092528),\n Row(Communes='Athis-Mons', month=6, stddev_samp(max(Temperature))=3.0120968232656997),\n Row(Communes='Perros-Guirec', month=3, stddev_samp(max(Temperature))=3.0289011909011454),\n Row(Communes='Millau', month=6, stddev_samp(max(Temperature))=3.2501748204729473),\n Row(Communes='Saint-Georges', month=3, stddev_samp(max(Temperature))=1.5642792899510156),\n Row(Communes='Lorp-Sentaraille', month=2, stddev_samp(max(Temperature))=2.708012801545316),\n Row(Communes='Le Lamentin', month=8, stddev_samp(max(Temperature))=0.7862453931068945),\n Row(Communes='Mont-de-Marsan', month=6, stddev_samp(max(Temperature))=2.62505411199638),\n Row(Communes='Les Abymes', month=8, stddev_samp(max(Temperature))=0.5222329678670982),\n Row(Communes='Saint-Georges', month=10, stddev_samp(max(Temperature))=0.7006490497453698),\n Row(Communes='Abbeville', month=8, stddev_samp(max(Temperature))=3.6131074512869903),\n Row(Communes='Lorp-Sentaraille', month=3, stddev_samp(max(Temperature))=2.449489742783186),\n Row(Communes='Fretin', month=3, stddev_samp(max(Temperature))=3.069892901102965),\n Row(Communes='Marignane', month=8, stddev_samp(max(Temperature))=2.013590190318148),\n Row(Communes='Saint-Aignan-Grandlieu', month=4, stddev_samp(max(Temperature))=3.258555173413797),\n Row(Communes='Abbeville', month=6, stddev_samp(max(Temperature))=3.330301651638948),\n Row(Communes='Limoges', month=1, stddev_samp(max(Temperature))=1.880924981991248),\n Row(Communes=\"Saint-Denis-d'Oléron\", month=5, stddev_samp(max(Temperature))=2.561959477360322),\n Row(Communes='Nice', month=2, stddev_samp(max(Temperature))=2.5271255679850233),\n Row(Communes='Colombier-Saugnieu', month=6, stddev_samp(max(Temperature))=1.7888543819998317),\n Row(Communes='Sainte-Marie', month=12, stddev_samp(max(Temperature))=0.6741998624632612),\n Row(Communes='Lorp-Sentaraille', month=11, stddev_samp(max(Temperature))=2.207425485203805),\n Row(Communes='Sainte-Marie', month=2, stddev_samp(max(Temperature))=0.6215815605080579),\n Row(Communes='Ouges', month=3, stddev_samp(max(Temperature))=2.527125567985022),\n Row(Communes='Saint-Mandrier-sur-Mer', month=9, stddev_samp(max(Temperature))=2.3475755815545285),\n Row(Communes='Saint-Laurent-du-Maroni', month=6, stddev_samp(max(Temperature))=0.6992058987801011),\n Row(Communes='Saint-Laurent-du-Maroni', month=9, stddev_samp(max(Temperature))=0.9816498172140458),\n Row(Communes='Mérignac', month=8, stddev_samp(max(Temperature))=2.72029410174709),\n Row(Communes='Boos', month=4, stddev_samp(max(Temperature))=3.188045853440053),\n Row(Communes='Athis-Mons', month=1, stddev_samp(max(Temperature))=1.4974726182552534),\n Row(Communes='Parçay-Meslay', month=12, stddev_samp(max(Temperature))=2.101947149236113),\n Row(Communes='Gourdon', month=1, stddev_samp(max(Temperature))=2.17944947177033),\n Row(Communes='Le Lamentin', month=4, stddev_samp(max(Temperature))=0.7507571935295473),\n Row(Communes='Blagnac', month=7, stddev_samp(max(Temperature))=1.470930441467698),\n Row(Communes='Marignane', month=11, stddev_samp(max(Temperature))=0.786245393106898),\n Row(Communes='Saint-Jacques-de-la-Lande', month=5, stddev_samp(max(Temperature))=2.649185123426028),\n Row(Communes='Saint-Aignan-Grandlieu', month=7, stddev_samp(max(Temperature))=2.370270410350232),\n Row(Communes='Fretin', month=8, stddev_samp(max(Temperature))=3.9057067804106236),\n Row(Communes='Boos', month=5, stddev_samp(max(Temperature))=2.300197619968575),\n Row(Communes='Bourges', month=8, stddev_samp(max(Temperature))=2.7336289566668106),\n Row(Communes='Parçay-Meslay', month=3, stddev_samp(max(Temperature))=2.5628464289109854),\n Row(Communes='Maripasoula', month=6, stddev_samp(max(Temperature))=5.656854249492381),\n Row(Communes='La Hague', month=11, stddev_samp(max(Temperature))=0.9816498172140293),\n Row(Communes='Guipavas', month=6, stddev_samp(max(Temperature))=3.856517505824041),\n Row(Communes='Saint-Mandrier-sur-Mer', month=1, stddev_samp(max(Temperature))=1.9164360862620133),\n Row(Communes='Sainte-Marie', month=1, stddev_samp(max(Temperature))=0.7784989441615281),\n Row(Communes='Boos', month=11, stddev_samp(max(Temperature))=2.0889318714683727),\n Row(Communes='Marignane', month=9, stddev_samp(max(Temperature))=1.4012980994907402),\n Row(Communes='Ouges', month=12, stddev_samp(max(Temperature))=1.8488325554743528),\n Row(Communes='Gourdon', month=6, stddev_samp(max(Temperature))=2.802596198981485),\n Row(Communes='Millau', month=5, stddev_samp(max(Temperature))=3.0451153135353217),\n Row(Communes='Fretin', month=6, stddev_samp(max(Temperature))=2.358736179320689),\n Row(Communes='Blagnac', month=8, stddev_samp(max(Temperature))=2.381748784554584),\n Row(Communes='Carpiquet', month=12, stddev_samp(max(Temperature))=2.3001976199685776),\n Row(Communes='Nice', month=7, stddev_samp(max(Temperature))=2.6215886925159118),\n Row(Communes='Marignane', month=3, stddev_samp(max(Temperature))=2.2746961169005453),\n Row(Communes='Mérignac', month=11, stddev_samp(max(Temperature))=2.400757456228417),\n Row(Communes='Saint-Aignan-Grandlieu', month=8, stddev_samp(max(Temperature))=3.697665110948702),\n Row(Communes='Maripasoula', month=10, stddev_samp(max(Temperature))=0.788810637746619),\n Row(Communes='La Désirade', month=1, stddev_samp(max(Temperature))=0.7071067811865408),\n Row(Communes='Le Lamentin', month=6, stddev_samp(max(Temperature))=0.981649817214041),\n Row(Communes='Les Abymes', month=3, stddev_samp(max(Temperature))=1.6696942198734464),\n Row(Communes=\"Saint-Denis-d'Oléron\", month=12, stddev_samp(max(Temperature))=1.221027882936783),\n Row(Communes='Mérignac', month=3, stddev_samp(max(Temperature))=2.26133508433322),\n Row(Communes='Mont-de-Marsan', month=10, stddev_samp(max(Temperature))=1.9400093720485845),\n Row(Communes='La Hague', month=1, stddev_samp(max(Temperature))=0.9374368665610994),\n Row(Communes='Saint-Laurent-du-Maroni', month=2, stddev_samp(max(Temperature))=0.5149286505444424),\n Row(Communes='Colombier-Saugnieu', month=1, stddev_samp(max(Temperature))=2.7455197664338216),\n Row(Communes='Blotzheim', month=2, stddev_samp(max(Temperature))=3.3878123807661966),\n Row(Communes='Mérignac', month=2, stddev_samp(max(Temperature))=3.203927514028914),\n Row(Communes=\"Saint-Denis-d'Oléron\", month=2, stddev_samp(max(Temperature))=2.3143164446679707),\n Row(Communes='Athis-Mons', month=2, stddev_samp(max(Temperature))=2.8431203515386634),\n Row(Communes='Saint-Laurent-du-Maroni', month=1, stddev_samp(max(Temperature))=0.6215815605080536),\n Row(Communes='Embrun', month=3, stddev_samp(max(Temperature))=2.691175253011996),\n Row(Communes='Le Lamentin', month=11, stddev_samp(max(Temperature))=0.6030226891555209),\n Row(Communes='Sainte-Marie', month=9, stddev_samp(max(Temperature))=0.700649049745369),\n Row(Communes='Guipavas', month=10, stddev_samp(max(Temperature))=2.769968821616467),\n Row(Communes='Saint-Jacques-de-la-Lande', month=3, stddev_samp(max(Temperature))=2.8431203515386687),\n Row(Communes='Holtzheim', month=5, stddev_samp(max(Temperature))=3.074824459143234),\n Row(Communes='Bourges', month=11, stddev_samp(max(Temperature))=2.8667371379639732),\n Row(Communes='Saint-Laurent-du-Maroni', month=7, stddev_samp(max(Temperature))=1.2720777563426835),\n Row(Communes='Bourges', month=6, stddev_samp(max(Temperature))=2.7236339361562263),\n Row(Communes='Poitiers', month=12, stddev_samp(max(Temperature))=1.916436086262016),\n Row(Communes='Poitiers', month=7, stddev_samp(max(Temperature))=2.4642904197207107),\n Row(Communes='Parçay-Meslay', month=8, stddev_samp(max(Temperature))=2.9449494516421217),\n Row(Communes='Carpiquet', month=4, stddev_samp(max(Temperature))=3.5161962919661343),\n Row(Communes='Saint-Jacques-de-la-Lande', month=2, stddev_samp(max(Temperature))=2.5271255679850197),\n Row(Communes='Mauguio', month=8, stddev_samp(max(Temperature))=2.071450962709259),\n Row(Communes='Maripasoula', month=3, stddev_samp(max(Temperature))=2.005673770264566),\n Row(Communes='Matoury', month=12, stddev_samp(max(Temperature))=0.5393598899705926),\n Row(Communes='Perpignan', month=9, stddev_samp(max(Temperature))=1.3684762594679076),\n Row(Communes='Saint-Jacques-de-la-Lande', month=1, stddev_samp(max(Temperature))=1.0552897060221722),\n Row(Communes='Gourdon', month=2, stddev_samp(max(Temperature))=2.7743413086658397),\n Row(Communes='Saint-Aignan-Grandlieu', month=1, stddev_samp(max(Temperature))=0.9962049198956214),\n Row(Communes='Embrun', month=10, stddev_samp(max(Temperature))=2.0404990476930704),\n Row(Communes='Saint-Jacques-de-la-Lande', month=9, stddev_samp(max(Temperature))=3.1937438845342565),\n Row(Communes='Mauguio', month=9, stddev_samp(max(Temperature))=1.814086296433855),\n Row(Communes='Millau', month=8, stddev_samp(max(Temperature))=2.3393860888547797),\n Row(Communes='Saint-Jacques-de-la-Lande', month=8, stddev_samp(max(Temperature))=3.8019133938775367),\n Row(Communes='Lorp-Sentaraille', month=8, stddev_samp(max(Temperature))=2.110579412044349),\n Row(Communes='Perros-Guirec', month=10, stddev_samp(max(Temperature))=3.5161962919661303),\n Row(Communes='Gourdon', month=3, stddev_samp(max(Temperature))=1.9924098397912522),\n Row(Communes='Holtzheim', month=4, stddev_samp(max(Temperature))=2.323790007724446),\n Row(Communes='Boos', month=9, stddev_samp(max(Temperature))=3.0030287741181927),\n Row(Communes='Poitiers', month=1, stddev_samp(max(Temperature))=1.7056057308448773),\n Row(Communes='Bourges', month=9, stddev_samp(max(Temperature))=3.4058772731852756),\n Row(Communes='Poitiers', month=5, stddev_samp(max(Temperature))=2.6594599588501597),\n Row(Communes='Saint-Laurent-du-Maroni', month=5, stddev_samp(max(Temperature))=0.948683298050518),\n Row(Communes='Guipavas', month=9, stddev_samp(max(Temperature))=3.077779601064266),\n Row(Communes='Gourdon', month=5, stddev_samp(max(Temperature))=2.6006992066819965),\n Row(Communes='Carpiquet', month=9, stddev_samp(max(Temperature))=3.144981572427582),\n Row(Communes='Poitiers', month=10, stddev_samp(max(Temperature))=2.6866674186027963),\n Row(Communes='Ouges', month=6, stddev_samp(max(Temperature))=2.300197619968567),\n Row(Communes='Le Lamentin', month=2, stddev_samp(max(Temperature))=1.2060453783110545),\n Row(Communes='Saint-Aignan-Grandlieu', month=10, stddev_samp(max(Temperature))=3.1101008460703117),\n Row(Communes='Lorp-Sentaraille', month=12, stddev_samp(max(Temperature))=1.6011359603844884),\n Row(Communes='Marignane', month=10, stddev_samp(max(Temperature))=1.5782614139961344),\n Row(Communes='Matoury', month=3, stddev_samp(max(Temperature))=0.8660254037844346),\n Row(Communes='Bourges', month=2, stddev_samp(max(Temperature))=2.779797245712852),\n Row(Communes='Holtzheim', month=2, stddev_samp(max(Temperature))=3.5248038845079623),\n Row(Communes='Les Abymes', month=6, stddev_samp(max(Temperature))=0.5222329678670959),\n Row(Communes='Saint-Laurent-du-Maroni', month=3, stddev_samp(max(Temperature))=1.0444659357341766),\n Row(Communes='La Hague', month=3, stddev_samp(max(Temperature))=2.4984843890695485),\n Row(Communes='Limoges', month=3, stddev_samp(max(Temperature))=2.2746961169005404),\n Row(Communes='Mont-de-Marsan', month=8, stddev_samp(max(Temperature))=2.805838069584074),\n Row(Communes='La Hague', month=10, stddev_samp(max(Temperature))=3.5445220218862215),\n Row(Communes='Marignane', month=6, stddev_samp(max(Temperature))=2.315952582337632),\n Row(Communes='Lorp-Sentaraille', month=9, stddev_samp(max(Temperature))=1.9725387425622585),\n Row(Communes='Limoges', month=6, stddev_samp(max(Temperature))=2.9787123514578058),\n Row(Communes='Perpignan', month=8, stddev_samp(max(Temperature))=1.7939291563999538),\n Row(Communes='Saint-Mandrier-sur-Mer', month=6, stddev_samp(max(Temperature))=2.2010098692292193),\n Row(Communes='La Trinité', month=11, stddev_samp(max(Temperature))=0.8944271909999079),\n Row(Communes='Abbeville', month=1, stddev_samp(max(Temperature))=1.9128750375000656),\n Row(Communes='Embrun', month=5, stddev_samp(max(Temperature))=3.608071759012259),\n Row(Communes='Fretin', month=12, stddev_samp(max(Temperature))=1.9725387425622534),\n Row(Communes='Sainte-Marie', month=7, stddev_samp(max(Temperature))=0.5222329678670986),\n Row(Communes='Le Lamentin', month=1, stddev_samp(max(Temperature))=0.5222329678670928),\n Row(Communes='Holtzheim', month=10, stddev_samp(max(Temperature))=2.90767010758536),\n Row(Communes='Abbeville', month=3, stddev_samp(max(Temperature))=2.964435660944397),\n Row(Communes='Gourdon', month=4, stddev_samp(max(Temperature))=2.1616492020508966),\n Row(Communes='Limoges', month=2, stddev_samp(max(Temperature))=3.069892901102974),\n Row(Communes='Abbeville', month=4, stddev_samp(max(Temperature))=2.8444523358476417),\n Row(Communes='Mérignac', month=4, stddev_samp(max(Temperature))=3.196589091231745),\n Row(Communes='Saint-Jacques-de-la-Lande', month=10, stddev_samp(max(Temperature))=2.9756588269735187),\n Row(Communes='Perpignan', month=5, stddev_samp(max(Temperature))=2.20330330516374),\n Row(Communes='Ouges', month=1, stddev_samp(max(Temperature))=2.1461734799546366),\n Row(Communes=\"Saint-Denis-d'Oléron\", month=6, stddev_samp(max(Temperature))=3.3001377381723125),\n Row(Communes='Parçay-Meslay', month=6, stddev_samp(max(Temperature))=3.408545410902106),\n Row(Communes='Blotzheim', month=8, stddev_samp(max(Temperature))=2.935673997258858),\n Row(Communes='La Trinité', month=4, stddev_samp(max(Temperature))=1.3017082793177757),\n Row(Communes='La Trinité', month=12, stddev_samp(max(Temperature))=11.423173328322083),\n Row(Communes=\"Saint-Denis-d'Oléron\", month=10, stddev_samp(max(Temperature))=2.2360679774997845),\n Row(Communes='La Trinité', month=6, stddev_samp(max(Temperature))=1.4491376746189437),\n Row(Communes='Parçay-Meslay', month=9, stddev_samp(max(Temperature))=3.1101008460703095),\n Row(Communes='Millau', month=12, stddev_samp(max(Temperature))=1.2649110640673518),\n Row(Communes='Holtzheim', month=3, stddev_samp(max(Temperature))=3.3393884397468887),\n Row(Communes='Lorp-Sentaraille', month=5, stddev_samp(max(Temperature))=2.0670576365276463),\n Row(Communes='Athis-Mons', month=3, stddev_samp(max(Temperature))=3.084663922561343),\n Row(Communes='Carpiquet', month=6, stddev_samp(max(Temperature))=4.297991074063251),\n Row(Communes='Saint-Georges', month=2, stddev_samp(max(Temperature))=0.6685579234215204),\n Row(Communes='Montélimar', month=5, stddev_samp(max(Temperature))=1.662418829187282),\n Row(Communes='Mérignac', month=1, stddev_samp(max(Temperature))=1.5954480704349294),\n Row(Communes='Colombier-Saugnieu', month=2, stddev_samp(max(Temperature))=3.250874008352501),\n Row(Communes='Montélimar', month=2, stddev_samp(max(Temperature))=2.574643252722181),\n Row(Communes='Perpignan', month=4, stddev_samp(max(Temperature))=2.427119504867666),\n Row(Communes='Bourges', month=3, stddev_samp(max(Temperature))=2.6285149626911086),\n Row(Communes='La Désirade', month=2, stddev_samp(max(Temperature))=0.0),\n Row(Communes='Mont-de-Marsan', month=2, stddev_samp(max(Temperature))=2.88675134594813),\n Row(Communes='Maripasoula', month=1, stddev_samp(max(Temperature))=0.6875516509523342),\n Row(Communes='La Désirade', month=7, stddev_samp(max(Temperature))=1.5),\n Row(Communes='Mérignac', month=12, stddev_samp(max(Temperature))=1.3416407864998723),\n Row(Communes=\"Saint-Denis-d'Oléron\", month=9, stddev_samp(max(Temperature))=2.4605985967941746),\n Row(Communes='Blotzheim', month=12, stddev_samp(max(Temperature))=1.8090680674665842),\n Row(Communes='Colombier-Saugnieu', month=10, stddev_samp(max(Temperature))=1.9493588689617924),\n Row(Communes='Ouges', month=11, stddev_samp(max(Temperature))=1.6787441193290378),\n Row(Communes='Colombier-Saugnieu', month=4, stddev_samp(max(Temperature))=1.5135749373285299),\n Row(Communes='Carpiquet', month=8, stddev_samp(max(Temperature))=3.4928498393145913),\n Row(Communes='Saint-Aignan-Grandlieu', month=2, stddev_samp(max(Temperature))=2.778434265858559),\n Row(Communes='Saint-Georges', month=12, stddev_samp(max(Temperature))=0.7862453931069031),\n Row(Communes='Les Abymes', month=1, stddev_samp(max(Temperature))=0.5773502691896195),\n Row(Communes='Holtzheim', month=6, stddev_samp(max(Temperature))=2.6006992066819903),\n Row(Communes='Maripasoula', month=4, stddev_samp(max(Temperature))=0.4216370213557828),\n Row(Communes='Holtzheim', month=8, stddev_samp(max(Temperature))=2.9076701075853637),\n Row(Communes='La Trinité', month=3, stddev_samp(max(Temperature))=1.9598237397554645),\n Row(Communes='Mont-de-Marsan', month=1, stddev_samp(max(Temperature))=1.8340219092574503),\n Row(Communes='Abbeville', month=11, stddev_samp(max(Temperature))=2.4007574562284204),\n Row(Communes='Fretin', month=9, stddev_samp(max(Temperature))=4.43334472543535),\n Row(Communes='Montélimar', month=10, stddev_samp(max(Temperature))=2.343268890014345),\n Row(Communes='Sainte-Marie', month=8, stddev_samp(max(Temperature))=0.6875516509523276),\n Row(Communes='Le Lamentin', month=7, stddev_samp(max(Temperature))=0.4670993664969104),\n Row(Communes='Carpiquet', month=7, stddev_samp(max(Temperature))=3.521363372331799),\n Row(Communes=\"Saint-Denis-d'Oléron\", month=11, stddev_samp(max(Temperature))=1.3483997249264723),\n Row(Communes='Gourdon', month=12, stddev_samp(max(Temperature))=1.7477257950106106),\n Row(Communes='Boos', month=12, stddev_samp(max(Temperature))=2.272363607268077),\n Row(Communes='Limoges', month=8, stddev_samp(max(Temperature))=3.042128441493793),\n Row(Communes='Mont-de-Marsan', month=12, stddev_samp(max(Temperature))=2.0976176963403086),\n Row(Communes='Fretin', month=11, stddev_samp(max(Temperature))=2.136266922375656),\n Row(Communes='Limoges', month=4, stddev_samp(max(Temperature))=2.4007574562284235),\n Row(Communes='Boos', month=2, stddev_samp(max(Temperature))=2.8431203515386603),\n Row(Communes='Clermont-Ferrand', month=6, stddev_samp(max(Temperature))=3.1130225008677748),\n Row(Communes='Carpiquet', month=11, stddev_samp(max(Temperature))=1.8090680674665802),\n Row(Communes='Perpignan', month=2, stddev_samp(max(Temperature))=3.018879984967331),\n Row(Communes='Poitiers', month=8, stddev_samp(max(Temperature))=3.360194799547951),\n Row(Communes='Lorp-Sentaraille', month=6, stddev_samp(max(Temperature))=2.21153998175685),\n Row(Communes='Saint-Georges', month=8, stddev_samp(max(Temperature))=0.5045249791095111),\n Row(Communes='Perros-Guirec', month=11, stddev_samp(max(Temperature))=1.5135749373285325),\n Row(Communes='Saint-Georges', month=7, stddev_samp(max(Temperature))=0.6741998624632473),\n Row(Communes='Maripasoula', month=5, stddev_samp(max(Temperature))=0.7378647873726202),\n Row(Communes='Saint-Mandrier-sur-Mer', month=12, stddev_samp(max(Temperature))=0.8232726023485663),\n Row(Communes='Gourdon', month=8, stddev_samp(max(Temperature))=2.981762748930412),\n Row(Communes='Millau', month=2, stddev_samp(max(Temperature))=3.528026317499597),\n Row(Communes='Gourdon', month=11, stddev_samp(max(Temperature))=2.203303305163743),\n Row(Communes='Poitiers', month=11, stddev_samp(max(Temperature))=1.9116865471476894),\n Row(Communes='Holtzheim', month=9, stddev_samp(max(Temperature))=2.6181186861075387),\n Row(Communes='Poitiers', month=4, stddev_samp(max(Temperature))=3.015113445777636),\n Row(Communes='Blagnac', month=4, stddev_samp(max(Temperature))=2.400757456228426),\n Row(Communes='Abbeville', month=9, stddev_samp(max(Temperature))=3.4165373220158624),\n Row(Communes='Mérignac', month=5, stddev_samp(max(Temperature))=2.5226248955475676),\n Row(Communes='Mont-de-Marsan', month=3, stddev_samp(max(Temperature))=2.587850400809466),\n Row(Communes='Carpiquet', month=10, stddev_samp(max(Temperature))=2.828427124746179),\n Row(Communes='Blagnac', month=12, stddev_samp(max(Temperature))=1.549193338482964),\n Row(Communes='Parçay-Meslay', month=4, stddev_samp(max(Temperature))=3.1880458534400593),\n Row(Communes='Colombier-Saugnieu', month=11, stddev_samp(max(Temperature))=1.5491933384829706),\n Row(Communes='Limoges', month=12, stddev_samp(max(Temperature))=1.7002673586554264),\n Row(Communes='Athis-Mons', month=8, stddev_samp(max(Temperature))=3.250174820472957),\n Row(Communes='Mérignac', month=10, stddev_samp(max(Temperature))=2.062654952856989),\n Row(Communes='Ouges', month=4, stddev_samp(max(Temperature))=1.7002673586554187),\n Row(Communes='Saint-Mandrier-sur-Mer', month=5, stddev_samp(max(Temperature))=2.4966644414765264),\n Row(Communes='Nice', month=10, stddev_samp(max(Temperature))=1.7939291563999453),\n Row(Communes='La Hague', month=9, stddev_samp(max(Temperature))=2.544155512685353),\n Row(Communes='Perros-Guirec', month=1, stddev_samp(max(Temperature))=1.4459976109624415),\n Row(Communes='La Trinité', month=1, stddev_samp(max(Temperature))=1.0836246694508236),\n Row(Communes='La Désirade', month=12, stddev_samp(max(Temperature))=0.5773502691896313),\n Row(Communes='Blotzheim', month=6, stddev_samp(max(Temperature))=2.1658506621900537),\n Row(Communes='Ouges', month=5, stddev_samp(max(Temperature))=2.5298221281347013),\n Row(Communes='Blagnac', month=3, stddev_samp(max(Temperature))=2.2746961169005373),\n Row(Communes='Guipavas', month=5, stddev_samp(max(Temperature))=3.714835124201338),\n Row(Communes='Saint-Aignan-Grandlieu', month=11, stddev_samp(max(Temperature))=1.5782614139961302),\n Row(Communes=\"Saint-Denis-d'Oléron\", month=7, stddev_samp(max(Temperature))=3.012096823265692),\n Row(Communes='Mauguio', month=6, stddev_samp(max(Temperature))=3.5058392848088618),\n Row(Communes='Embrun', month=9, stddev_samp(max(Temperature))=1.8683974659876477),\n Row(Communes='Nice', month=3, stddev_samp(max(Temperature))=2.2495790852081745),\n Row(Communes='Perpignan', month=3, stddev_samp(max(Temperature))=3.4245105821522466),\n Row(Communes='Saint-Jacques-de-la-Lande', month=7, stddev_samp(max(Temperature))=2.8025961989814867),\n Row(Communes='Boos', month=6, stddev_samp(max(Temperature))=3.3601947995479535),\n Row(Communes='Maripasoula', month=7, stddev_samp(max(Temperature))=0.8944271909999121),\n Row(Communes='Parçay-Meslay', month=5, stddev_samp(max(Temperature))=2.423371055519005),\n Row(Communes='Saint-Aignan-Grandlieu', month=5, stddev_samp(max(Temperature))=2.913916452287042),\n Row(Communes='La Hague', month=7, stddev_samp(max(Temperature))=3.2277208395680415),\n Row(Communes='Millau', month=7, stddev_samp(max(Temperature))=1.4709304414677062),\n Row(Communes='Matoury', month=4, stddev_samp(max(Temperature))=0.6030226891555205),\n Row(Communes='Mauguio', month=5, stddev_samp(max(Temperature))=2.522624895547564),\n Row(Communes='Embrun', month=7, stddev_samp(max(Temperature))=1.4893561757289069),\n Row(Communes='Nice', month=4, stddev_samp(max(Temperature))=1.5374122295716166),\n Row(Communes='Saint-Aignan-Grandlieu', month=9, stddev_samp(max(Temperature))=2.696799449852963),\n Row(Communes='Bourges', month=1, stddev_samp(max(Temperature))=2.0652243256245817),\n Row(Communes='Guipavas', month=8, stddev_samp(max(Temperature))=2.9480347845487),\n Row(Communes='La Désirade', month=3, stddev_samp(max(Temperature))=1.7320508075688772),\n Row(Communes='Clermont-Ferrand', month=7, stddev_samp(max(Temperature))=2.891995221924886),\n Row(Communes='Marignane', month=2, stddev_samp(max(Temperature))=2.3788843832962776),\n Row(Communes='Saint-Georges', month=11, stddev_samp(max(Temperature))=0.8944271909999191),\n Row(Communes='Le Lamentin', month=12, stddev_samp(max(Temperature))=0.6741998624632478),\n Row(Communes='Holtzheim', month=11, stddev_samp(max(Temperature))=1.7786613965666336),\n Row(Communes='Carpiquet', month=1, stddev_samp(max(Temperature))=1.764549903980142),\n Row(Communes='Athis-Mons', month=7, stddev_samp(max(Temperature))=3.379080025418432),\n Row(Communes='Perros-Guirec', month=4, stddev_samp(max(Temperature))=3.3790800254184394),\n Row(Communes='Mauguio', month=3, stddev_samp(max(Temperature))=3.315482505220656),\n Row(Communes=\"Saint-Denis-d'Oléron\", month=8, stddev_samp(max(Temperature))=3.1130225008677774),\n Row(Communes='Mérignac', month=7, stddev_samp(max(Temperature))=2.419616799112097),\n Row(Communes=\"Saint-Denis-d'Oléron\", month=1, stddev_samp(max(Temperature))=1.4433756729740665),\n Row(Communes='Saint-Laurent-du-Maroni', month=11, stddev_samp(max(Temperature))=1.1832159566199218),\n Row(Communes='Saint-Mandrier-sur-Mer', month=4, stddev_samp(max(Temperature))=1.5491933384829635),\n Row(Communes='Saint-Georges', month=6, stddev_samp(max(Temperature))=0.5163977794943408),\n Row(Communes='Blagnac', month=9, stddev_samp(max(Temperature))=1.5075567228888151),\n Row(Communes='Blotzheim', month=7, stddev_samp(max(Temperature))=2.2563042992710525),\n Row(Communes='Perros-Guirec', month=2, stddev_samp(max(Temperature))=2.0652243256245897),\n Row(Communes='La Trinité', month=7, stddev_samp(max(Temperature))=1.026910636104937),\n Row(Communes='Guipavas', month=12, stddev_samp(max(Temperature))=1.6011359603844897),\n Row(Communes='Les Abymes', month=4, stddev_samp(max(Temperature))=0.40451991747794575),\n Row(Communes='Les Abymes', month=5, stddev_samp(max(Temperature))=0.8090398349558949),\n Row(Communes='Mont-de-Marsan', month=9, stddev_samp(max(Temperature))=2.500908925679926),\n Row(Communes='Saint-Aignan-Grandlieu', month=3, stddev_samp(max(Temperature))=2.378884383296289),\n Row(Communes='Limoges', month=11, stddev_samp(max(Temperature))=2.110579412044344),\n Row(Communes='La Hague', month=6, stddev_samp(max(Temperature))=2.05382127220988),\n Row(Communes='Millau', month=3, stddev_samp(max(Temperature))=3.342789617107613),\n Row(Communes='Blotzheim', month=10, stddev_samp(max(Temperature))=2.8316394223456296),\n Row(Communes='Clermont-Ferrand', month=5, stddev_samp(max(Temperature))=3.1304951684997073),\n Row(Communes='Mauguio', month=12, stddev_samp(max(Temperature))=1.3751033019046568),\n Row(Communes='Embrun', month=11, stddev_samp(max(Temperature))=1.62927758670691),\n Row(Communes='Embrun', month=12, stddev_samp(max(Temperature))=1.689540012709223),\n Row(Communes='Colombier-Saugnieu', month=8, stddev_samp(max(Temperature))=2.442055765873574),\n Row(Communes='Carpiquet', month=2, stddev_samp(max(Temperature))=2.4167972796469863),\n Row(Communes='Fretin', month=1, stddev_samp(max(Temperature))=1.642245321798704),\n Row(Communes='Abbeville', month=12, stddev_samp(max(Temperature))=2.1616492020508993),\n Row(Communes='Ouges', month=10, stddev_samp(max(Temperature))=2.2723636072680615),\n Row(Communes='Saint-Georges', month=5, stddev_samp(max(Temperature))=0.8232726023485565),\n Row(Communes='Matoury', month=7, stddev_samp(max(Temperature))=0.6030226891555331),\n Row(Communes='La Désirade', month=6, stddev_samp(max(Temperature))=2.6457513110645907),\n Row(Communes='Marignane', month=5, stddev_samp(max(Temperature))=2.4642904197207054),\n Row(Communes='Matoury', month=6, stddev_samp(max(Temperature))=0.6741998624632478),\n Row(Communes='Saint-Mandrier-sur-Mer', month=3, stddev_samp(max(Temperature))=1.8257418583505551),\n Row(Communes='Blotzheim', month=11, stddev_samp(max(Temperature))=1.9725387425622578),\n Row(Communes='Blotzheim', month=9, stddev_samp(max(Temperature))=2.693426341028364),\n Row(Communes='Perros-Guirec', month=9, stddev_samp(max(Temperature))=2.8316394223456167),\n Row(Communes='Matoury', month=1, stddev_samp(max(Temperature))=0.38924947208076144),\n Row(Communes='Poitiers', month=2, stddev_samp(max(Temperature))=2.8959218974902705),\n Row(Communes='Gourdon', month=10, stddev_samp(max(Temperature))=2.2115399817568515),\n Row(Communes='Ouges', month=9, stddev_samp(max(Temperature))=2.7601053998320104),\n Row(Communes='Clermont-Ferrand', month=1, stddev_samp(max(Temperature))=2.503028468705758),\n Row(Communes='Sainte-Marie', month=10, stddev_samp(max(Temperature))=0.6741998624632433),\n Row(Communes='Limoges', month=10, stddev_samp(max(Temperature))=1.778661396566635),\n Row(Communes='Colombier-Saugnieu', month=9, stddev_samp(max(Temperature))=2.067057636527654),\n Row(Communes='Guipavas', month=11, stddev_samp(max(Temperature))=1.7002673586554173),\n Row(Communes='Poitiers', month=3, stddev_samp(max(Temperature))=1.9598237397554537),\n Row(Communes='Athis-Mons', month=4, stddev_samp(max(Temperature))=2.7732488332115186),\n Row(Communes='Clermont-Ferrand', month=3, stddev_samp(max(Temperature))=2.0375267241229427),\n Row(Communes='Les Abymes', month=7, stddev_samp(max(Temperature))=0.6741998624632388),\n Row(Communes='Ouges', month=8, stddev_samp(max(Temperature))=2.866737137963967),\n Row(Communes='Embrun', month=2, stddev_samp(max(Temperature))=4.010403138505321),\n Row(Communes='Athis-Mons', month=10, stddev_samp(max(Temperature))=1.9632996344280873),\n Row(Communes='La Hague', month=5, stddev_samp(max(Temperature))=2.252271580588641),\n Row(Communes='Lorp-Sentaraille', month=1, stddev_samp(max(Temperature))=1.9752253419585195),\n Row(Communes='Perros-Guirec', month=6, stddev_samp(max(Temperature))=3.722169455377521),\n Row(Communes='Clermont-Ferrand', month=10, stddev_samp(max(Temperature))=2.618118686107533),\n Row(Communes='Guipavas', month=3, stddev_samp(max(Temperature))=2.933608802492353),\n Row(Communes='Mont-de-Marsan', month=4, stddev_samp(max(Temperature))=3.266914028977082),\n Row(Communes='Holtzheim', month=7, stddev_samp(max(Temperature))=2.0538212722098854),\n Row(Communes='Nice', month=11, stddev_samp(max(Temperature))=1.1037127426019069),\n Row(Communes='La Trinité', month=5, stddev_samp(max(Temperature))=0.866025403784441),\n Row(Communes='Fretin', month=5, stddev_samp(max(Temperature))=2.4936282437808988),\n Row(Communes='Fretin', month=2, stddev_samp(max(Temperature))=2.8109633849474336),\n Row(Communes='Athis-Mons', month=5, stddev_samp(max(Temperature))=2.981762748930416),\n Row(Communes='Lorp-Sentaraille', month=7, stddev_samp(max(Temperature))=2.3393860888547846),\n Row(Communes='Millau', month=4, stddev_samp(max(Temperature))=2.427119504867685),\n Row(Communes='Marignane', month=12, stddev_samp(max(Temperature))=1.0787197799411876),\n Row(Communes='Perpignan', month=7, stddev_samp(max(Temperature))=1.6787441193290356),\n Row(Communes='Maripasoula', month=2, stddev_samp(max(Temperature))=0.5149286505444387),\n Row(Communes='Perpignan', month=10, stddev_samp(max(Temperature))=2.419616799112098),\n Row(Communes='Mont-de-Marsan', month=5, stddev_samp(max(Temperature))=2.4196167991120796),\n Row(Communes='Bourges', month=12, stddev_samp(max(Temperature))=1.8488325554743437),\n Row(Communes='La Trinité', month=10, stddev_samp(max(Temperature))=10.45335961654086),\n Row(Communes='Blotzheim', month=5, stddev_samp(max(Temperature))=2.662876093795784),\n Row(Communes='Les Abymes', month=2, stddev_samp(max(Temperature))=0.8528028654224382),\n Row(Communes='Montélimar', month=6, stddev_samp(max(Temperature))=2.300197619968573),\n Row(Communes=\"Saint-Denis-d'Oléron\", month=4, stddev_samp(max(Temperature))=2.4120907566221126),\n Row(Communes='Les Abymes', month=9, stddev_samp(max(Temperature))=0.5393598899705988),\n Row(Communes='Mauguio', month=11, stddev_samp(max(Temperature))=1.9164360862620144),\n Row(Communes='La Trinité', month=9, stddev_samp(max(Temperature))=0.9341987329938259),\n Row(Communes='Blagnac', month=1, stddev_samp(max(Temperature))=2.0000000000000053),\n Row(Communes='Montélimar', month=11, stddev_samp(max(Temperature))=1.4142135623730903),\n Row(Communes='Mérignac', month=9, stddev_samp(max(Temperature))=2.6560394301563846),\n Row(Communes='Bourges', month=5, stddev_samp(max(Temperature))=2.4826671874490898),\n Row(Communes='Les Abymes', month=11, stddev_samp(max(Temperature))=0.5045249791095137),\n Row(Communes='Colombier-Saugnieu', month=3, stddev_samp(max(Temperature))=2.0652243256245835),\n Row(Communes='Le Lamentin', month=3, stddev_samp(max(Temperature))=1.466804401246183),\n Row(Communes='Saint-Jacques-de-la-Lande', month=11, stddev_samp(max(Temperature))=1.7580981459830582),\n Row(Communes='Bourges', month=4, stddev_samp(max(Temperature))=2.611164839335473),\n Row(Communes='Clermont-Ferrand', month=12, stddev_samp(max(Temperature))=1.221027882936783),\n Row(Communes='Nice', month=12, stddev_samp(max(Temperature))=1.4709304414676914),\n Row(Communes='Bourges', month=10, stddev_samp(max(Temperature))=2.8412545244534604),\n Row(Communes='Sainte-Marie', month=11, stddev_samp(max(Temperature))=0.6875516509523383),\n Row(Communes='Gourdon', month=7, stddev_samp(max(Temperature))=2.6250541119963757),\n Row(Communes='Sainte-Marie', month=6, stddev_samp(max(Temperature))=0.6466697906828643),\n Row(Communes='Saint-Mandrier-sur-Mer', month=7, stddev_samp(max(Temperature))=1.5776212754932295),\n Row(Communes='Saint-Laurent-du-Maroni', month=4, stddev_samp(max(Temperature))=0.6324555320336794),\n Row(Communes='Embrun', month=4, stddev_samp(max(Temperature))=2.583162262175431),\n Row(Communes='Colombier-Saugnieu', month=5, stddev_samp(max(Temperature))=2.0626549528569935),\n Row(Communes='Montélimar', month=7, stddev_samp(max(Temperature))=1.5550504230351547),\n Row(Communes='Matoury', month=8, stddev_samp(max(Temperature))=0.5045249791095126),\n Row(Communes='Montélimar', month=4, stddev_samp(max(Temperature))=1.5075567228888143),\n Row(Communes='Parçay-Meslay', month=10, stddev_samp(max(Temperature))=2.67649703224874),\n Row(Communes='Millau', month=9, stddev_samp(max(Temperature))=2.625054111996379),\n Row(Communes='La Désirade', month=11, stddev_samp(max(Temperature))=0.8944271909999185),\n Row(Communes='Saint-Laurent-du-Maroni', month=12, stddev_samp(max(Temperature))=1.272077756342684),\n Row(Communes='Blotzheim', month=1, stddev_samp(max(Temperature))=2.5746432527221854),\n Row(Communes='Saint-Mandrier-sur-Mer', month=8, stddev_samp(max(Temperature))=1.66332999331662),\n Row(Communes='Montélimar', month=8, stddev_samp(max(Temperature))=2.3432688900143566),\n Row(Communes='Boos', month=3, stddev_samp(max(Temperature))=2.8069178610689494),\n Row(Communes='Montélimar', month=3, stddev_samp(max(Temperature))=2.2746961169005417),\n Row(Communes='Bourges', month=7, stddev_samp(max(Temperature))=2.6250541119963855),\n Row(Communes='Mont-de-Marsan', month=11, stddev_samp(max(Temperature))=1.9021518914592057),\n Row(Communes='Guipavas', month=7, stddev_samp(max(Temperature))=2.2723636072680704),\n Row(Communes='Embrun', month=8, stddev_samp(max(Temperature))=1.700267358655416),\n Row(Communes='Embrun', month=1, stddev_samp(max(Temperature))=2.274696116900548),\n Row(Communes='Perros-Guirec', month=12, stddev_samp(max(Temperature))=1.4012980994907573),\n Row(Communes='Blagnac', month=6, stddev_samp(max(Temperature))=3.2361593398235637),\n Row(Communes='Matoury', month=9, stddev_samp(max(Temperature))=0.7745966692414767),\n Row(Communes='Blagnac', month=10, stddev_samp(max(Temperature))=2.3779288161224374),\n Row(Communes='La Hague', month=2, stddev_samp(max(Temperature))=1.484771179187366),\n Row(Communes='Saint-Mandrier-sur-Mer', month=11, stddev_samp(max(Temperature))=1.1595018087284057),\n Row(Communes='Boos', month=7, stddev_samp(max(Temperature))=3.695205739136246),\n Row(Communes='Nice', month=5, stddev_samp(max(Temperature))=2.227921983292131),\n Row(Communes='La Trinité', month=8, stddev_samp(max(Temperature))=1.4012980994907427),\n Row(Communes='Saint-Mandrier-sur-Mer', month=10, stddev_samp(max(Temperature))=1.5000000000000033)]"
     },
     "execution_count": 93,
     "metadata": {},
     "output_type": "execute_result"
    }
   ],
   "source": [
    "%%time\n",
    "from pyspark.sql.functions import col, year, month\n",
    "import pyspark.sql.functions as F\n",
    "\n",
    "#meteo_file_path = \"../dataset/extract_meteo.csv\"\n",
    "meteo_file_path = \"../dataset/donnees-synop-essentielles-omm.csv\"\n",
    "meteo_dataframe = spark.read.csv(path=meteo_file_path,\n",
    "                                 header=True,\n",
    "                                 sep=\";\")\n",
    "\n",
    "meteo_dataframe_subset = meteo_dataframe.select(col(\"Date\").cast(\"DATE\"),\n",
    "                                                col(\"mois_de_l_annee\").cast(\"INT\"),\n",
    "                                                col(\"communes (name)\").cast(\"STRING\").alias(\"Communes\"),\n",
    "                                                col(\"communes (code)\").cast(\"STRING\").alias(\"CodePostal\"),\n",
    "                                                col(\"Température\").cast(\"INT\").alias(\"Temperature\"))\n",
    "meteo_dataframe_subset = meteo_dataframe_subset.select(year(\"Date\").alias(\"year\"),\n",
    "                                                       month(\"Date\").alias(\"month\"),\n",
    "                                                       \"Date\",\n",
    "                                                       \"Communes\",\n",
    "                                                       \"CodePostal\",\n",
    "                                                       \"Temperature\")\n",
    "\n",
    "meteo_dataframe_subset = meteo_dataframe_subset.where(col(\"Communes\").isNotNull())\n",
    "\n",
    "insee_file_path = \"../dataset/MDB-INSEE-V2.csv\"\n",
    "insee_dataframe = spark.read.csv(path=insee_file_path,\n",
    "                                 header=True,\n",
    "                                 sep=\";\")\n",
    "\n",
    "insee_dataframe_subset = insee_dataframe.select(col(\"CODGEO\").cast(\"INT\").alias(\"CodePostal\"),\n",
    "                                                #col(\"LIBGEO\").cast(\"STRING\").alias(\"Communes\"),\n",
    "                                                col(\"Population\").cast(\"INT\"))\n",
    "\n",
    "insee_and_meteo_dataframe = meteo_dataframe_subset.join(insee_dataframe_subset,\n",
    "                                                        on=\"CodePostal\",\n",
    "                                                        how='left')\n",
    "\n",
    "insee_and_meteo_dataframe = insee_and_meteo_dataframe.where(col(\"Population\") >= 1000)\n",
    "\n",
    "df_agg = insee_and_meteo_dataframe.groupby(\"Communes\", \"year\", \"month\").agg(F.max(\"Temperature\"))\n",
    "df_agg.groupby(\"Communes\", \"month\").agg(F.stddev_samp(\"max(Temperature)\")).collect()"
   ],
   "metadata": {
    "collapsed": false,
    "pycharm": {
     "name": "#%%\n"
    }
   }
  },
  {
   "cell_type": "code",
   "execution_count": 115,
   "outputs": [
    {
     "data": {
      "text/plain": "DataFrame[Communes: string, year: int, month: int, max(Temperature): int]"
     },
     "execution_count": 115,
     "metadata": {},
     "output_type": "execute_result"
    }
   ],
   "source": [
    "df_agg.write.csv()\n"
   ],
   "metadata": {
    "collapsed": false,
    "pycharm": {
     "name": "#%%\n"
    }
   }
  },
  {
   "cell_type": "code",
   "execution_count": 127,
   "outputs": [
    {
     "name": "stdout",
     "output_type": "stream",
     "text": [
      "CPU times: user 836 ms, sys: 44 ms, total: 880 ms\n",
      "Wall time: 890 ms\n"
     ]
    }
   ],
   "source": [
    "%%time\n",
    "import random\n",
    "\n",
    "n: int = 10000000\n",
    "foo_list = [random.random() for _ in range(n)]\n",
    "foo_list.sort()\n",
    "\n",
    "a: float = 0.25\n",
    "b: float = 0.27"
   ],
   "metadata": {
    "collapsed": false,
    "pycharm": {
     "name": "#%%\n"
    }
   }
  },
  {
   "cell_type": "code",
   "execution_count": 150,
   "outputs": [],
   "source": [
    "def dichomomous_search2(foo_list: List[float], a: float, b: float, index_start: int, index_end: int) -> List[float]:\n",
    "    n_element: int = index_end - index_start\n",
    "    if n_element == 0:\n",
    "        return []\n",
    "    mid_elementindex: int = n_element // 2 + index_start\n",
    "    mid_element = foo_list[mid_elementindex]\n",
    "    if mid_element < a:\n",
    "        return dichomomous_search2(foo_list, a, b, index_start, mid_elementindex)\n",
    "    elif mid_element > b:\n",
    "        return dichomomous_search2(foo_list, a, b, mid_elementindex + 1, index_end)\n",
    "    else:\n",
    "        return [elt for elt in foo_list if a <= elt and elt < b]"
   ],
   "metadata": {
    "collapsed": false,
    "pycharm": {
     "name": "#%%\n"
    }
   }
  },
  {
   "cell_type": "code",
   "execution_count": 153,
   "outputs": [
    {
     "name": "stdout",
     "output_type": "stream",
     "text": [
      "4.68 s ± 77.6 ms per loop (mean ± std. dev. of 7 runs, 1 loop each)\n"
     ]
    }
   ],
   "source": [
    "%%timeit\n",
    "n= 10000000\n",
    "foo_list = [random.random() for _ in range(n)]\n",
    "foo_list.sort()\n",
    "a = 0.25\n",
    "b = 0.27\n",
    "dichomomous_search2(foo_list, a, b, 0, len(foo_list))"
   ],
   "metadata": {
    "collapsed": false,
    "pycharm": {
     "name": "#%%\n"
    }
   }
  },
  {
   "cell_type": "code",
   "execution_count": 154,
   "outputs": [
    {
     "name": "stdout",
     "output_type": "stream",
     "text": [
      "2.28 s ± 63.4 ms per loop (mean ± std. dev. of 7 runs, 1 loop each)\n"
     ]
    }
   ],
   "source": [
    "%%timeit\n",
    "n = 10000000\n",
    "foo_list = [random.random() for _ in range(n)]\n",
    "foo_list_arr = np.sort(foo_list)\n",
    "a = 0.25\n",
    "b = 0.27\n",
    "indexes = np.where(np.logical_and(foo_list_arr>=a, foo_list_arr<=b))\n",
    "foo_list_arr[indexes]"
   ],
   "metadata": {
    "collapsed": false,
    "pycharm": {
     "name": "#%%\n"
    }
   }
  },
  {
   "cell_type": "code",
   "execution_count": 146,
   "outputs": [
    {
     "data": {
      "text/plain": "array([0.25000012, 0.25000022, 0.25000027, ..., 0.26999964, 0.26999985,\n       0.26999986])"
     },
     "execution_count": 146,
     "metadata": {},
     "output_type": "execute_result"
    }
   ],
   "source": [
    "indexes = np.where(np.logical_and(foo_list_arr>=a, foo_list_arr<=b))\n",
    "foo_list_arr[indexes]"
   ],
   "metadata": {
    "collapsed": false,
    "pycharm": {
     "name": "#%%\n"
    }
   }
  },
  {
   "cell_type": "code",
   "execution_count": 148,
   "outputs": [
    {
     "name": "stdout",
     "output_type": "stream",
     "text": [
      "15.9 ms ± 247 µs per loop (mean ± std. dev. of 7 runs, 100 loops each)\n"
     ]
    }
   ],
   "source": [
    "%timeit search_with_numpy(foo_list_arr)"
   ],
   "metadata": {
    "collapsed": false,
    "pycharm": {
     "name": "#%%\n"
    }
   }
  },
  {
   "cell_type": "code",
   "execution_count": 134,
   "outputs": [
    {
     "data": {
      "text/plain": "array([0.2606772 , 0.26998024, 0.25399611, ..., 0.25311427, 0.2661466 ,\n       0.25982513])"
     },
     "execution_count": 134,
     "metadata": {},
     "output_type": "execute_result"
    }
   ],
   "source": [
    "search_with_numpy(foo_list)"
   ],
   "metadata": {
    "collapsed": false,
    "pycharm": {
     "name": "#%%\n"
    }
   }
  },
  {
   "cell_type": "code",
   "execution_count": 139,
   "outputs": [
    {
     "data": {
      "text/plain": "array([7.89048132e-08, 2.01010326e-07, 2.44992134e-07, ...,\n       9.99999806e-01, 9.99999900e-01, 9.99999959e-01])"
     },
     "execution_count": 139,
     "metadata": {},
     "output_type": "execute_result"
    }
   ],
   "source": [
    "foo_list_arr"
   ],
   "metadata": {
    "collapsed": false,
    "pycharm": {
     "name": "#%%\n"
    }
   }
  },
  {
   "cell_type": "code",
   "execution_count": 18,
   "outputs": [],
   "source": [
    "import pandas as pd\n",
    "import numpy as np\n",
    "from datetime import datetime, timedelta\n",
    "from typing import List"
   ],
   "metadata": {
    "collapsed": false,
    "pycharm": {
     "name": "#%%\n"
    }
   }
  },
  {
   "cell_type": "code",
   "execution_count": 10,
   "outputs": [],
   "source": [
    "class Consumption:\n",
    "    def __init__(self, meter_number: str, start_date: datetime, end_date: datetime, quantity: float):\n",
    "        self.meter_number: str = meter_number\n",
    "        self.start_date: datetime = start_date\n",
    "        self.end_date: datetime = end_date\n",
    "        self.quantity: float = quantity\n",
    "\n",
    "start_date: datetime = datetime(2015, 1, 1)\n",
    "list_consumption: List[Consumption] = []\n",
    "for i in range(300000):\n",
    "    consumption_1 = Consumption(meter_number='LI1',\n",
    "                              start_date = start_date + timedelta(minutes=10 * i),\n",
    "                              end_date = start_date + timedelta(minutes=10 * (i +1)),\n",
    "                              quantity = 1)\n",
    "    consumption_2 = Consumption(meter_number='LI2',\n",
    "                              start_date = start_date + timedelta(minutes=10 * i),\n",
    "                              end_date = start_date + timedelta(minutes=10 * (i +1)),\n",
    "                              quantity = 1)\n",
    "    list_consumption.extend([consumption_1, consumption_2])"
   ],
   "metadata": {
    "collapsed": false,
    "pycharm": {
     "name": "#%%\n"
    }
   }
  },
  {
   "cell_type": "code",
   "execution_count": 13,
   "outputs": [
    {
     "data": {
      "text/plain": "1"
     },
     "execution_count": 13,
     "metadata": {},
     "output_type": "execute_result"
    }
   ],
   "source": [
    "list_consumption[0].quantity"
   ],
   "metadata": {
    "collapsed": false,
    "pycharm": {
     "name": "#%%\n"
    }
   }
  },
  {
   "cell_type": "code",
   "execution_count": 57,
   "outputs": [],
   "source": [
    "df = pd.DataFrame({'meter_number': [consumption.meter_number for consumption in list_consumption],\n",
    "                   'start_date': [consumption.start_date for consumption in list_consumption],\n",
    "                   'end_date': [consumption.end_date for consumption in list_consumption],\n",
    "                   'quantity': [consumption.quantity for consumption in list_consumption]})"
   ],
   "metadata": {
    "collapsed": false,
    "pycharm": {
     "name": "#%%\n"
    }
   }
  },
  {
   "cell_type": "code",
   "execution_count": 37,
   "outputs": [
    {
     "data": {
      "text/plain": "  meter_number          start_date            end_date  quantity\n0          LI1 2015-01-01 00:00:00 2015-01-01 00:10:00         1\n1          LI2 2015-01-01 00:00:00 2015-01-01 00:10:00         1\n2          LI1 2015-01-01 00:10:00 2015-01-01 00:20:00         1\n3          LI2 2015-01-01 00:10:00 2015-01-01 00:20:00         1\n4          LI1 2015-01-01 00:20:00 2015-01-01 00:30:00         1",
      "text/html": "<div>\n<style scoped>\n    .dataframe tbody tr th:only-of-type {\n        vertical-align: middle;\n    }\n\n    .dataframe tbody tr th {\n        vertical-align: top;\n    }\n\n    .dataframe thead th {\n        text-align: right;\n    }\n</style>\n<table border=\"1\" class=\"dataframe\">\n  <thead>\n    <tr style=\"text-align: right;\">\n      <th></th>\n      <th>meter_number</th>\n      <th>start_date</th>\n      <th>end_date</th>\n      <th>quantity</th>\n    </tr>\n  </thead>\n  <tbody>\n    <tr>\n      <th>0</th>\n      <td>LI1</td>\n      <td>2015-01-01 00:00:00</td>\n      <td>2015-01-01 00:10:00</td>\n      <td>1</td>\n    </tr>\n    <tr>\n      <th>1</th>\n      <td>LI2</td>\n      <td>2015-01-01 00:00:00</td>\n      <td>2015-01-01 00:10:00</td>\n      <td>1</td>\n    </tr>\n    <tr>\n      <th>2</th>\n      <td>LI1</td>\n      <td>2015-01-01 00:10:00</td>\n      <td>2015-01-01 00:20:00</td>\n      <td>1</td>\n    </tr>\n    <tr>\n      <th>3</th>\n      <td>LI2</td>\n      <td>2015-01-01 00:10:00</td>\n      <td>2015-01-01 00:20:00</td>\n      <td>1</td>\n    </tr>\n    <tr>\n      <th>4</th>\n      <td>LI1</td>\n      <td>2015-01-01 00:20:00</td>\n      <td>2015-01-01 00:30:00</td>\n      <td>1</td>\n    </tr>\n  </tbody>\n</table>\n</div>"
     },
     "execution_count": 37,
     "metadata": {},
     "output_type": "execute_result"
    }
   ],
   "source": [
    "df.head(5)"
   ],
   "metadata": {
    "collapsed": false,
    "pycharm": {
     "name": "#%%\n"
    }
   }
  },
  {
   "cell_type": "code",
   "execution_count": 31,
   "outputs": [
    {
     "data": {
      "text/plain": "meter_number            object\nstart_date      datetime64[ns]\nend_date        datetime64[ns]\nquantity                 int64\ndtype: object"
     },
     "execution_count": 31,
     "metadata": {},
     "output_type": "execute_result"
    }
   ],
   "source": [
    "df.dtypes"
   ],
   "metadata": {
    "collapsed": false,
    "pycharm": {
     "name": "#%%\n"
    }
   }
  },
  {
   "cell_type": "code",
   "execution_count": 60,
   "outputs": [
    {
     "name": "stdout",
     "output_type": "stream",
     "text": [
      "3.91 ms ± 427 µs per loop (mean ± std. dev. of 7 runs, 100 loops each)\n"
     ]
    }
   ],
   "source": [
    "%%timeit\n",
    "start_date=datetime(2020, 1, 1)\n",
    "end_date = datetime(2020, 3, 1)\n",
    "df.iloc[np.where(np.logical_and(df.start_date >= start_date, df.end_date < end_date))[0]]\n"
   ],
   "metadata": {
    "collapsed": false,
    "pycharm": {
     "name": "#%%\n"
    }
   }
  },
  {
   "cell_type": "code",
   "execution_count": 52,
   "outputs": [
    {
     "name": "stdout",
     "output_type": "stream",
     "text": [
      "CPU times: user 102 ms, sys: 28.5 ms, total: 131 ms\n",
      "Wall time: 130 ms\n"
     ]
    },
    {
     "data": {
      "text/plain": "                                        meter_number  quantity\nstart_date          end_date                                  \n2020-01-01 00:00:00 2020-01-01 00:10:00          LI1         1\n                    2020-01-01 00:10:00          LI2         1\n2020-01-01 00:10:00 2020-01-01 00:20:00          LI1         1\n                    2020-01-01 00:20:00          LI2         1\n2020-01-01 00:20:00 2020-01-01 00:30:00          LI1         1\n...                                              ...       ...\n2020-02-29 23:30:00 2020-02-29 23:40:00          LI2         1\n2020-02-29 23:40:00 2020-02-29 23:50:00          LI1         1\n                    2020-02-29 23:50:00          LI2         1\n2020-02-29 23:50:00 2020-03-01 00:00:00          LI1         1\n                    2020-03-01 00:00:00          LI2         1\n\n[17280 rows x 2 columns]",
      "text/html": "<div>\n<style scoped>\n    .dataframe tbody tr th:only-of-type {\n        vertical-align: middle;\n    }\n\n    .dataframe tbody tr th {\n        vertical-align: top;\n    }\n\n    .dataframe thead th {\n        text-align: right;\n    }\n</style>\n<table border=\"1\" class=\"dataframe\">\n  <thead>\n    <tr style=\"text-align: right;\">\n      <th></th>\n      <th></th>\n      <th>meter_number</th>\n      <th>quantity</th>\n    </tr>\n    <tr>\n      <th>start_date</th>\n      <th>end_date</th>\n      <th></th>\n      <th></th>\n    </tr>\n  </thead>\n  <tbody>\n    <tr>\n      <th rowspan=\"2\" valign=\"top\">2020-01-01 00:00:00</th>\n      <th>2020-01-01 00:10:00</th>\n      <td>LI1</td>\n      <td>1</td>\n    </tr>\n    <tr>\n      <th>2020-01-01 00:10:00</th>\n      <td>LI2</td>\n      <td>1</td>\n    </tr>\n    <tr>\n      <th rowspan=\"2\" valign=\"top\">2020-01-01 00:10:00</th>\n      <th>2020-01-01 00:20:00</th>\n      <td>LI1</td>\n      <td>1</td>\n    </tr>\n    <tr>\n      <th>2020-01-01 00:20:00</th>\n      <td>LI2</td>\n      <td>1</td>\n    </tr>\n    <tr>\n      <th>2020-01-01 00:20:00</th>\n      <th>2020-01-01 00:30:00</th>\n      <td>LI1</td>\n      <td>1</td>\n    </tr>\n    <tr>\n      <th>...</th>\n      <th>...</th>\n      <td>...</td>\n      <td>...</td>\n    </tr>\n    <tr>\n      <th>2020-02-29 23:30:00</th>\n      <th>2020-02-29 23:40:00</th>\n      <td>LI2</td>\n      <td>1</td>\n    </tr>\n    <tr>\n      <th rowspan=\"2\" valign=\"top\">2020-02-29 23:40:00</th>\n      <th>2020-02-29 23:50:00</th>\n      <td>LI1</td>\n      <td>1</td>\n    </tr>\n    <tr>\n      <th>2020-02-29 23:50:00</th>\n      <td>LI2</td>\n      <td>1</td>\n    </tr>\n    <tr>\n      <th rowspan=\"2\" valign=\"top\">2020-02-29 23:50:00</th>\n      <th>2020-03-01 00:00:00</th>\n      <td>LI1</td>\n      <td>1</td>\n    </tr>\n    <tr>\n      <th>2020-03-01 00:00:00</th>\n      <td>LI2</td>\n      <td>1</td>\n    </tr>\n  </tbody>\n</table>\n<p>17280 rows × 2 columns</p>\n</div>"
     },
     "execution_count": 52,
     "metadata": {},
     "output_type": "execute_result"
    }
   ],
   "source": [
    "%%time\n",
    "start_date=datetime(2020, 1, 1)\n",
    "end_date = datetime(2020, 3, 1)\n",
    "df.set_index(['start_date', 'end_date'], inplace=True)\n",
    "idx = pd.IndexSlice\n",
    "df.loc[idx[start_date:, :end_date], :]"
   ],
   "metadata": {
    "collapsed": false,
    "pycharm": {
     "name": "#%%\n"
    }
   }
  },
  {
   "cell_type": "code",
   "execution_count": 33,
   "outputs": [
    {
     "data": {
      "text/plain": "                                        meter_number  quantity\nstart_date          end_date                                  \n2015-01-01 00:00:00 2015-01-01 00:10:00          LI1         1\n                    2015-01-01 00:10:00          LI2         1\n2015-01-01 00:10:00 2015-01-01 00:20:00          LI1         1\n                    2015-01-01 00:20:00          LI2         1\n2015-01-01 00:20:00 2015-01-01 00:30:00          LI1         1\n...                                              ...       ...\n2020-09-14 07:30:00 2020-09-14 07:40:00          LI2         1\n2020-09-14 07:40:00 2020-09-14 07:50:00          LI1         1\n                    2020-09-14 07:50:00          LI2         1\n2020-09-14 07:50:00 2020-09-14 08:00:00          LI1         1\n                    2020-09-14 08:00:00          LI2         1\n\n[600000 rows x 2 columns]",
      "text/html": "<div>\n<style scoped>\n    .dataframe tbody tr th:only-of-type {\n        vertical-align: middle;\n    }\n\n    .dataframe tbody tr th {\n        vertical-align: top;\n    }\n\n    .dataframe thead th {\n        text-align: right;\n    }\n</style>\n<table border=\"1\" class=\"dataframe\">\n  <thead>\n    <tr style=\"text-align: right;\">\n      <th></th>\n      <th></th>\n      <th>meter_number</th>\n      <th>quantity</th>\n    </tr>\n    <tr>\n      <th>start_date</th>\n      <th>end_date</th>\n      <th></th>\n      <th></th>\n    </tr>\n  </thead>\n  <tbody>\n    <tr>\n      <th rowspan=\"2\" valign=\"top\">2015-01-01 00:00:00</th>\n      <th>2015-01-01 00:10:00</th>\n      <td>LI1</td>\n      <td>1</td>\n    </tr>\n    <tr>\n      <th>2015-01-01 00:10:00</th>\n      <td>LI2</td>\n      <td>1</td>\n    </tr>\n    <tr>\n      <th rowspan=\"2\" valign=\"top\">2015-01-01 00:10:00</th>\n      <th>2015-01-01 00:20:00</th>\n      <td>LI1</td>\n      <td>1</td>\n    </tr>\n    <tr>\n      <th>2015-01-01 00:20:00</th>\n      <td>LI2</td>\n      <td>1</td>\n    </tr>\n    <tr>\n      <th>2015-01-01 00:20:00</th>\n      <th>2015-01-01 00:30:00</th>\n      <td>LI1</td>\n      <td>1</td>\n    </tr>\n    <tr>\n      <th>...</th>\n      <th>...</th>\n      <td>...</td>\n      <td>...</td>\n    </tr>\n    <tr>\n      <th>2020-09-14 07:30:00</th>\n      <th>2020-09-14 07:40:00</th>\n      <td>LI2</td>\n      <td>1</td>\n    </tr>\n    <tr>\n      <th rowspan=\"2\" valign=\"top\">2020-09-14 07:40:00</th>\n      <th>2020-09-14 07:50:00</th>\n      <td>LI1</td>\n      <td>1</td>\n    </tr>\n    <tr>\n      <th>2020-09-14 07:50:00</th>\n      <td>LI2</td>\n      <td>1</td>\n    </tr>\n    <tr>\n      <th rowspan=\"2\" valign=\"top\">2020-09-14 07:50:00</th>\n      <th>2020-09-14 08:00:00</th>\n      <td>LI1</td>\n      <td>1</td>\n    </tr>\n    <tr>\n      <th>2020-09-14 08:00:00</th>\n      <td>LI2</td>\n      <td>1</td>\n    </tr>\n  </tbody>\n</table>\n<p>600000 rows × 2 columns</p>\n</div>"
     },
     "execution_count": 33,
     "metadata": {},
     "output_type": "execute_result"
    }
   ],
   "source": [
    "df\n"
   ],
   "metadata": {
    "collapsed": false,
    "pycharm": {
     "name": "#%%\n"
    }
   }
  },
  {
   "cell_type": "code",
   "execution_count": 61,
   "outputs": [],
   "source": [
    "df = pd.DataFrame({'meter_number': [consumption.meter_number for consumption in list_consumption],\n",
    "                   'start_date': [consumption.start_date for consumption in list_consumption],\n",
    "                   'end_date': [consumption.end_date for consumption in list_consumption],\n",
    "                   'quantity': [consumption.quantity for consumption in list_consumption]})\n",
    "df.set_index(['start_date', 'end_date'], inplace=True)"
   ],
   "metadata": {
    "collapsed": false,
    "pycharm": {
     "name": "#%%\n"
    }
   }
  },
  {
   "cell_type": "code",
   "execution_count": 62,
   "outputs": [
    {
     "name": "stdout",
     "output_type": "stream",
     "text": [
      "11.3 ms ± 1.44 ms per loop (mean ± std. dev. of 7 runs, 100 loops each)\n"
     ]
    }
   ],
   "source": [
    "%%timeit\n",
    "start_date=datetime(2020, 1, 1)\n",
    "end_date = datetime(2020, 3, 1)\n",
    "idx = pd.IndexSlice\n",
    "df.loc[idx[start_date:, :end_date], :]"
   ],
   "metadata": {
    "collapsed": false,
    "pycharm": {
     "name": "#%%\n"
    }
   }
  },
  {
   "cell_type": "code",
   "execution_count": null,
   "outputs": [],
   "source": [],
   "metadata": {
    "collapsed": false,
    "pycharm": {
     "name": "#%%\n"
    }
   }
  },
  {
   "cell_type": "code",
   "execution_count": 55,
   "outputs": [
    {
     "name": "stdout",
     "output_type": "stream",
     "text": [
      "11.8 ms ± 1.34 ms per loop (mean ± std. dev. of 7 runs, 100 loops each)\n"
     ]
    }
   ],
   "source": [
    "%%timeit\n",
    "df.loc[idx[start_date:, :end_date], :]"
   ],
   "metadata": {
    "collapsed": false,
    "pycharm": {
     "name": "#%%\n"
    }
   }
  },
  {
   "cell_type": "code",
   "execution_count": null,
   "outputs": [],
   "source": [],
   "metadata": {
    "collapsed": false,
    "pycharm": {
     "name": "#%%\n"
    }
   }
  }
 ],
 "metadata": {
  "kernelspec": {
   "display_name": "Python 3",
   "language": "python",
   "name": "python3"
  },
  "language_info": {
   "codemirror_mode": {
    "name": "ipython",
    "version": 2
   },
   "file_extension": ".py",
   "mimetype": "text/x-python",
   "name": "python",
   "nbconvert_exporter": "python",
   "pygments_lexer": "ipython2",
   "version": "2.7.6"
  }
 },
 "nbformat": 4,
 "nbformat_minor": 0
}